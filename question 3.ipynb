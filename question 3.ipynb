{
 "cells": [
  {
   "cell_type": "code",
   "execution_count": 1,
   "id": "43a4f58c",
   "metadata": {},
   "outputs": [
    {
     "name": "stdout",
     "output_type": "stream",
     "text": [
      "Requirement already satisfied: selenium in c:\\users\\deepak\\anaconda3\\lib\\site-packages (4.8.3)\n",
      "Requirement already satisfied: certifi>=2021.10.8 in c:\\users\\deepak\\anaconda3\\lib\\site-packages (from selenium) (2022.12.7)\n",
      "Requirement already satisfied: trio-websocket~=0.9 in c:\\users\\deepak\\anaconda3\\lib\\site-packages (from selenium) (0.10.2)\n",
      "Requirement already satisfied: trio~=0.17 in c:\\users\\deepak\\anaconda3\\lib\\site-packages (from selenium) (0.22.0)\n",
      "Requirement already satisfied: urllib3[socks]~=1.26 in c:\\users\\deepak\\anaconda3\\lib\\site-packages (from selenium) (1.26.14)\n",
      "Requirement already satisfied: sniffio in c:\\users\\deepak\\anaconda3\\lib\\site-packages (from trio~=0.17->selenium) (1.2.0)\n",
      "Requirement already satisfied: exceptiongroup>=1.0.0rc9 in c:\\users\\deepak\\anaconda3\\lib\\site-packages (from trio~=0.17->selenium) (1.1.1)\n",
      "Requirement already satisfied: sortedcontainers in c:\\users\\deepak\\anaconda3\\lib\\site-packages (from trio~=0.17->selenium) (2.4.0)\n",
      "Requirement already satisfied: cffi>=1.14 in c:\\users\\deepak\\anaconda3\\lib\\site-packages (from trio~=0.17->selenium) (1.15.1)\n",
      "Requirement already satisfied: outcome in c:\\users\\deepak\\anaconda3\\lib\\site-packages (from trio~=0.17->selenium) (1.2.0)\n",
      "Requirement already satisfied: async-generator>=1.9 in c:\\users\\deepak\\anaconda3\\lib\\site-packages (from trio~=0.17->selenium) (1.10)\n",
      "Requirement already satisfied: idna in c:\\users\\deepak\\anaconda3\\lib\\site-packages (from trio~=0.17->selenium) (3.4)\n",
      "Requirement already satisfied: attrs>=19.2.0 in c:\\users\\deepak\\anaconda3\\lib\\site-packages (from trio~=0.17->selenium) (22.1.0)\n",
      "Requirement already satisfied: wsproto>=0.14 in c:\\users\\deepak\\anaconda3\\lib\\site-packages (from trio-websocket~=0.9->selenium) (1.2.0)\n",
      "Requirement already satisfied: PySocks!=1.5.7,<2.0,>=1.5.6 in c:\\users\\deepak\\anaconda3\\lib\\site-packages (from urllib3[socks]~=1.26->selenium) (1.7.1)\n",
      "Requirement already satisfied: pycparser in c:\\users\\deepak\\anaconda3\\lib\\site-packages (from cffi>=1.14->trio~=0.17->selenium) (2.21)\n",
      "Requirement already satisfied: h11<1,>=0.9.0 in c:\\users\\deepak\\anaconda3\\lib\\site-packages (from wsproto>=0.14->trio-websocket~=0.9->selenium) (0.14.0)\n",
      "Note: you may need to restart the kernel to use updated packages.\n"
     ]
    }
   ],
   "source": [
    "pip install selenium"
   ]
  },
  {
   "cell_type": "code",
   "execution_count": 2,
   "id": "4657a4c4",
   "metadata": {},
   "outputs": [],
   "source": [
    "import selenium\n",
    "import pandas as pd\n",
    "from selenium import webdriver\n",
    "from selenium.common.exceptions import StaleElementReferenceException,NoSuchElementException\n",
    "from selenium.webdriver.common.by import By\n",
    "import time\n"
   ]
  },
  {
   "cell_type": "code",
   "execution_count": 3,
   "id": "6960c12c",
   "metadata": {},
   "outputs": [
    {
     "name": "stderr",
     "output_type": "stream",
     "text": [
      "C:\\Users\\Deepak\\AppData\\Local\\Temp\\ipykernel_9780\\191662975.py:1: DeprecationWarning: executable_path has been deprecated, please pass in a Service object\n",
      "  driver=webdriver.Chrome(r\"chromedriver.exe\")\n"
     ]
    }
   ],
   "source": [
    "driver=webdriver.Chrome(r\"chromedriver.exe\")"
   ]
  },
  {
   "cell_type": "code",
   "execution_count": 4,
   "id": "9a9edebd",
   "metadata": {},
   "outputs": [],
   "source": [
    "driver.get(\"https://www.naukri.com/\")"
   ]
  },
  {
   "cell_type": "code",
   "execution_count": 5,
   "id": "d2c6b33d",
   "metadata": {},
   "outputs": [],
   "source": [
    "designation=driver.find_element(By.CLASS_NAME,\"suggestor-input \")\n",
    "designation.send_keys(\"DATA SCIENTIST\")"
   ]
  },
  {
   "cell_type": "code",
   "execution_count": 6,
   "id": "04a43c90",
   "metadata": {},
   "outputs": [],
   "source": [
    "search=driver.find_element(By.CLASS_NAME,\"qsbSubmit\")\n",
    "search.click()"
   ]
  },
  {
   "cell_type": "code",
   "execution_count": 21,
   "id": "da40da75",
   "metadata": {},
   "outputs": [],
   "source": [
    "loc=driver.find_element(By.XPATH,'/html/body/div[1]/div[4]/div/div/section[1]/div[2]/div[5]/div[2]/div[2]/label/p/span[1]')\n",
    "loc.click()\n",
    "\n"
   ]
  },
  {
   "cell_type": "code",
   "execution_count": 25,
   "id": "e4a33d79",
   "metadata": {},
   "outputs": [],
   "source": [
    "sal=driver.find_element(By.XPATH,'/html/body/div[1]/div[4]/div/div/section[1]/div[2]/div[6]/div[2]/div[2]/label/p/span[1]')\n",
    "sal.click()"
   ]
  },
  {
   "cell_type": "code",
   "execution_count": 61,
   "id": "f3ee4bbe",
   "metadata": {},
   "outputs": [],
   "source": [
    "job_title=[]\n",
    "experience_required=[]\n",
    "job_location=[]\n",
    "company_name=[]"
   ]
  },
  {
   "cell_type": "code",
   "execution_count": 62,
   "id": "adb75074",
   "metadata": {},
   "outputs": [],
   "source": [
    "title=driver.find_elements(By.XPATH,'//a[@class=\"title ellipsis\"]')\n",
    "for i in title[0:10]:\n",
    "    titles=i.text\n",
    "    job_title.append(titles)"
   ]
  },
  {
   "cell_type": "code",
   "execution_count": 63,
   "id": "c87afd28",
   "metadata": {},
   "outputs": [],
   "source": [
    "experiance=driver.find_elements(By.XPATH,'//span[@class=\"ellipsis fleft expwdth\"]')\n",
    "for i in experiance[0:10]:\n",
    "    experiance1=i.text\n",
    "    experience_required.append(experiance1)\n",
    "    "
   ]
  },
  {
   "cell_type": "code",
   "execution_count": 67,
   "id": "a411a94f",
   "metadata": {},
   "outputs": [],
   "source": [
    "location=driver.find_elements(By.XPATH,'//span[@class=\"ellipsis fleft locWdth\"]')\n",
    "for i in location[0:10]:\n",
    "    location1=i.text\n",
    "    job_location.append(location1)"
   ]
  },
  {
   "cell_type": "code",
   "execution_count": 65,
   "id": "b88fb02b",
   "metadata": {},
   "outputs": [],
   "source": [
    "company=driver.find_elements(By.XPATH,'//a[@class=\"subTitle ellipsis fleft\"]')\n",
    "for i in company[0:10]:\n",
    "    companies=i.text\n",
    "    company_name.append(companies)"
   ]
  },
  {
   "cell_type": "code",
   "execution_count": 68,
   "id": "3f3a73bb",
   "metadata": {
    "scrolled": true
   },
   "outputs": [
    {
     "name": "stdout",
     "output_type": "stream",
     "text": [
      "10 10 10 10\n"
     ]
    }
   ],
   "source": [
    "print(len(job_title),len(company_name),len(experience_required),len(job_location))"
   ]
  },
  {
   "cell_type": "code",
   "execution_count": 69,
   "id": "07e8ef37",
   "metadata": {},
   "outputs": [],
   "source": [
    "df=pd.DataFrame({'JOB_TITLE':job_title,'EXPERIENCE_REQUIRED':experience_required,'JOB_LOCATION':job_location,'COMPANY_NAME':company_name})"
   ]
  },
  {
   "cell_type": "code",
   "execution_count": 70,
   "id": "93746561",
   "metadata": {},
   "outputs": [
    {
     "name": "stdout",
     "output_type": "stream",
     "text": [
      "                JOB_TITLE EXPERIENCE_REQUIRED  \\\n",
      "0          Data Scientist            6-10 Yrs   \n",
      "1   Junior Data Scientist             0-2 Yrs   \n",
      "2          Data Scientist             3-7 Yrs   \n",
      "3  MLOps - Data Scientist             3-8 Yrs   \n",
      "4          Data Scientist             1-3 Yrs   \n",
      "5          Data Scientist             2-4 Yrs   \n",
      "6   Junior Data Scientist             1-6 Yrs   \n",
      "7    Analyst-Data Science             0-3 Yrs   \n",
      "8    Analyst-Data Science             0-3 Yrs   \n",
      "9   Senior Data Scientist             3-8 Yrs   \n",
      "\n",
      "                                        JOB_LOCATION      COMPANY_NAME  \n",
      "0  Temp. WFH - Kochi/Cochin, Kolkata, Hyderabad/S...         Cognizant  \n",
      "1  Kolkata, Mumbai, New Delhi, Hyderabad/Secunder...          Analytos  \n",
      "2              Gurgaon/Gurugram, Bangalore/Bengaluru         Blackbuck  \n",
      "3                                              Noida             Paytm  \n",
      "4  Kolkata, Mumbai, New Delhi, Hyderabad/Secunder...         Tabsquare  \n",
      "5  Kolkata, Mumbai, New Delhi, Hyderabad/Secunder...          Analytos  \n",
      "6    Gurgaon/Gurugram, United States (USA), Bulgaria            Adidas  \n",
      "7                                   Gurgaon/Gurugram  AMERICAN EXPRESS  \n",
      "8                                   Gurgaon/Gurugram  AMERICAN EXPRESS  \n",
      "9  Hyderabad/Secunderabad, Chenani, Gurgaon/Gurug...      RecruitEForU  \n"
     ]
    }
   ],
   "source": [
    "print(df)"
   ]
  },
  {
   "cell_type": "code",
   "execution_count": null,
   "id": "79574c8c",
   "metadata": {},
   "outputs": [],
   "source": []
  }
 ],
 "metadata": {
  "kernelspec": {
   "display_name": "Python 3 (ipykernel)",
   "language": "python",
   "name": "python3"
  },
  "language_info": {
   "codemirror_mode": {
    "name": "ipython",
    "version": 3
   },
   "file_extension": ".py",
   "mimetype": "text/x-python",
   "name": "python",
   "nbconvert_exporter": "python",
   "pygments_lexer": "ipython3",
   "version": "3.10.9"
  }
 },
 "nbformat": 4,
 "nbformat_minor": 5
}

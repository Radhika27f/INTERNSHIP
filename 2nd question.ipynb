{
 "cells": [
  {
   "cell_type": "code",
   "execution_count": 1,
   "id": "59eabb42",
   "metadata": {},
   "outputs": [
    {
     "name": "stdout",
     "output_type": "stream",
     "text": [
      "Requirement already satisfied: selenium in c:\\users\\deepak\\anaconda3\\lib\\site-packages (4.8.3)\n",
      "Requirement already satisfied: trio~=0.17 in c:\\users\\deepak\\anaconda3\\lib\\site-packages (from selenium) (0.22.0)\n",
      "Requirement already satisfied: trio-websocket~=0.9 in c:\\users\\deepak\\anaconda3\\lib\\site-packages (from selenium) (0.10.2)\n",
      "Requirement already satisfied: urllib3[socks]~=1.26 in c:\\users\\deepak\\anaconda3\\lib\\site-packages (from selenium) (1.26.14)\n",
      "Requirement already satisfied: certifi>=2021.10.8 in c:\\users\\deepak\\anaconda3\\lib\\site-packages (from selenium) (2022.12.7)\n",
      "Requirement already satisfied: outcome in c:\\users\\deepak\\anaconda3\\lib\\site-packages (from trio~=0.17->selenium) (1.2.0)\n",
      "Requirement already satisfied: sniffio in c:\\users\\deepak\\anaconda3\\lib\\site-packages (from trio~=0.17->selenium) (1.2.0)\n",
      "Requirement already satisfied: exceptiongroup>=1.0.0rc9 in c:\\users\\deepak\\anaconda3\\lib\\site-packages (from trio~=0.17->selenium) (1.1.1)\n",
      "Requirement already satisfied: async-generator>=1.9 in c:\\users\\deepak\\anaconda3\\lib\\site-packages (from trio~=0.17->selenium) (1.10)\n",
      "Requirement already satisfied: sortedcontainers in c:\\users\\deepak\\anaconda3\\lib\\site-packages (from trio~=0.17->selenium) (2.4.0)\n",
      "Requirement already satisfied: cffi>=1.14 in c:\\users\\deepak\\anaconda3\\lib\\site-packages (from trio~=0.17->selenium) (1.15.1)\n",
      "Requirement already satisfied: idna in c:\\users\\deepak\\anaconda3\\lib\\site-packages (from trio~=0.17->selenium) (3.4)\n",
      "Requirement already satisfied: attrs>=19.2.0 in c:\\users\\deepak\\anaconda3\\lib\\site-packages (from trio~=0.17->selenium) (22.1.0)\n",
      "Requirement already satisfied: wsproto>=0.14 in c:\\users\\deepak\\anaconda3\\lib\\site-packages (from trio-websocket~=0.9->selenium) (1.2.0)\n",
      "Requirement already satisfied: PySocks!=1.5.7,<2.0,>=1.5.6 in c:\\users\\deepak\\anaconda3\\lib\\site-packages (from urllib3[socks]~=1.26->selenium) (1.7.1)\n",
      "Requirement already satisfied: pycparser in c:\\users\\deepak\\anaconda3\\lib\\site-packages (from cffi>=1.14->trio~=0.17->selenium) (2.21)\n",
      "Requirement already satisfied: h11<1,>=0.9.0 in c:\\users\\deepak\\anaconda3\\lib\\site-packages (from wsproto>=0.14->trio-websocket~=0.9->selenium) (0.14.0)\n",
      "Note: you may need to restart the kernel to use updated packages.\n"
     ]
    }
   ],
   "source": [
    "pip install selenium"
   ]
  },
  {
   "cell_type": "code",
   "execution_count": 2,
   "id": "8e304cdb",
   "metadata": {},
   "outputs": [],
   "source": [
    "import selenium\n",
    "import pandas as pd\n",
    "from selenium import webdriver\n",
    "from selenium.common.exceptions import StaleElementReferenceException,NoSuchElementException\n",
    "from selenium.webdriver.common.by import By\n",
    "import time"
   ]
  },
  {
   "cell_type": "code",
   "execution_count": 12,
   "id": "079e28b1",
   "metadata": {},
   "outputs": [
    {
     "name": "stderr",
     "output_type": "stream",
     "text": [
      "C:\\Users\\Deepak\\AppData\\Local\\Temp\\ipykernel_7740\\191662975.py:1: DeprecationWarning: executable_path has been deprecated, please pass in a Service object\n",
      "  driver=webdriver.Chrome(r\"chromedriver.exe\")\n"
     ]
    }
   ],
   "source": [
    "driver=webdriver.Chrome(r\"chromedriver.exe\")"
   ]
  },
  {
   "cell_type": "code",
   "execution_count": 13,
   "id": "f3d33035",
   "metadata": {},
   "outputs": [],
   "source": [
    "driver.get(\"https://www.naukri.com/\")"
   ]
  },
  {
   "cell_type": "code",
   "execution_count": 14,
   "id": "9ec588e8",
   "metadata": {},
   "outputs": [],
   "source": [
    "designation=driver.find_element(By.CLASS_NAME,\"suggestor-input \")\n",
    "designation.send_keys(\"DATA SCIENTIST\")"
   ]
  },
  {
   "cell_type": "code",
   "execution_count": 15,
   "id": "6c58e9a1",
   "metadata": {},
   "outputs": [],
   "source": [
    "location=driver.find_element(By.XPATH,'/html/body/div[1]/div[7]/div/div/div[5]/div/div/div/div[1]/div/input')\n",
    "location.send_keys(\"BANGLORE\")"
   ]
  },
  {
   "cell_type": "code",
   "execution_count": 16,
   "id": "095bef38",
   "metadata": {},
   "outputs": [],
   "source": [
    "search=driver.find_element(By.CLASS_NAME,\"qsbSubmit\")\n",
    "search.click()"
   ]
  },
  {
   "cell_type": "code",
   "execution_count": 17,
   "id": "4a9900d2",
   "metadata": {},
   "outputs": [],
   "source": [
    "job_title=[]\n",
    "job_location=[]\n",
    "company_name=[]"
   ]
  },
  {
   "cell_type": "code",
   "execution_count": 20,
   "id": "78770a61",
   "metadata": {},
   "outputs": [],
   "source": [
    "title=driver.find_elements(By.XPATH,'//a[@class=\"title ellipsis\"]')\n",
    "for i in title[0:10]:\n",
    "    titles=i.text\n",
    "    job_title.append(titles)"
   ]
  },
  {
   "cell_type": "code",
   "execution_count": 21,
   "id": "53a29b49",
   "metadata": {},
   "outputs": [],
   "source": [
    "location=driver.find_elements(By.XPATH,'//span[@class=\"ellipsis fleft locWdth\"]')\n",
    "for i in location[0:10]:\n",
    "    locations=i.text\n",
    "    job_location.append(locations)"
   ]
  },
  {
   "cell_type": "code",
   "execution_count": 22,
   "id": "09dd00ca",
   "metadata": {},
   "outputs": [],
   "source": [
    "company=driver.find_elements(By.XPATH,'//a[@class=\"subTitle ellipsis fleft\"]')\n",
    "for i in company[0:10]:\n",
    "    companies=i.text\n",
    "    company_name.append(companies)"
   ]
  },
  {
   "cell_type": "code",
   "execution_count": 23,
   "id": "5b773bd0",
   "metadata": {},
   "outputs": [
    {
     "name": "stdout",
     "output_type": "stream",
     "text": [
      "10 10 10\n"
     ]
    }
   ],
   "source": [
    "print(len(job_title),len(job_location),len(company_name))"
   ]
  },
  {
   "cell_type": "code",
   "execution_count": 25,
   "id": "e522fa11",
   "metadata": {},
   "outputs": [
    {
     "name": "stdout",
     "output_type": "stream",
     "text": [
      "                                           JOB_TITLE  \\\n",
      "0  Data Science Professional - IBM SPSS Statistic...   \n",
      "1                            Data Science Specialist   \n",
      "2                   Analystics & Modeling Specialist   \n",
      "3                              Senior data scientist   \n",
      "4                                 Data Scientist_NLP   \n",
      "5                                     Data Scientist   \n",
      "6                    Machine Learning (AI) Architect   \n",
      "7       Manager - Innovations Hub - Machine Learning   \n",
      "8                                       Data Science   \n",
      "9                                     Data Scientist   \n",
      "\n",
      "                                        JOB_LOCATION           COMPANY_NAME  \n",
      "0  Noida, Mumbai, Pune, Chennai, Bangalore/Bengaluru  Hexaware Technologies  \n",
      "1  Kolkata, Mumbai, Hyderabad/Secunderabad, Pune,...              Accenture  \n",
      "2  Kolkata, Mumbai, Hyderabad/Secunderabad, Pune,...              Accenture  \n",
      "3  Mumbai, Pune, Chennai, Gurgaon/Gurugram, Banga...      Fractal Analytics  \n",
      "4  Mumbai, Pune, Chennai, Gurgaon/Gurugram, Banga...      Fractal Analytics  \n",
      "5  Mumbai, Pune, Chennai, Gurgaon/Gurugram, Banga...      Fractal Analytics  \n",
      "6  Kolkata, Mumbai, New Delhi, Hyderabad/Secunder...             Persistent  \n",
      "7  Mumbai, Hyderabad/Secunderabad, Bangalore/Beng...                    PwC  \n",
      "8  Kolkata, Mumbai, New Delhi, Hyderabad/Secunder...               Skillety  \n",
      "9  Kolkata, Mumbai, New Delhi, Hyderabad/Secunder...               Clarifai  \n"
     ]
    }
   ],
   "source": [
    "df=pd.DataFrame({'JOB_TITLE':job_title,'JOB_LOCATION':job_location,'COMPANY_NAME':company_name})\n",
    "print(df)"
   ]
  },
  {
   "cell_type": "code",
   "execution_count": null,
   "id": "9bee57de",
   "metadata": {},
   "outputs": [],
   "source": []
  }
 ],
 "metadata": {
  "kernelspec": {
   "display_name": "Python 3 (ipykernel)",
   "language": "python",
   "name": "python3"
  },
  "language_info": {
   "codemirror_mode": {
    "name": "ipython",
    "version": 3
   },
   "file_extension": ".py",
   "mimetype": "text/x-python",
   "name": "python",
   "nbconvert_exporter": "python",
   "pygments_lexer": "ipython3",
   "version": "3.10.9"
  }
 },
 "nbformat": 4,
 "nbformat_minor": 5
}

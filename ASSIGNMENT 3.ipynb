{
 "cells": [
  {
   "cell_type": "code",
   "execution_count": null,
   "id": "85d779b1",
   "metadata": {},
   "outputs": [],
   "source": [
    "1st QUESTION"
   ]
  },
  {
   "cell_type": "code",
   "execution_count": 2,
   "id": "a8958d2f",
   "metadata": {},
   "outputs": [
    {
     "name": "stdout",
     "output_type": "stream",
     "text": [
      "Requirement already satisfied: selenium in c:\\users\\deepak\\anaconda3\\lib\\site-packages (4.8.3)Note: you may need to restart the kernel to use updated packages.\n",
      "\n",
      "Requirement already satisfied: trio-websocket~=0.9 in c:\\users\\deepak\\anaconda3\\lib\\site-packages (from selenium) (0.10.2)\n",
      "Requirement already satisfied: certifi>=2021.10.8 in c:\\users\\deepak\\anaconda3\\lib\\site-packages (from selenium) (2022.12.7)\n",
      "Requirement already satisfied: trio~=0.17 in c:\\users\\deepak\\anaconda3\\lib\\site-packages (from selenium) (0.22.0)\n",
      "Requirement already satisfied: urllib3[socks]~=1.26 in c:\\users\\deepak\\anaconda3\\lib\\site-packages (from selenium) (1.26.14)\n",
      "Requirement already satisfied: async-generator>=1.9 in c:\\users\\deepak\\anaconda3\\lib\\site-packages (from trio~=0.17->selenium) (1.10)\n",
      "Requirement already satisfied: cffi>=1.14 in c:\\users\\deepak\\anaconda3\\lib\\site-packages (from trio~=0.17->selenium) (1.15.1)\n",
      "Requirement already satisfied: attrs>=19.2.0 in c:\\users\\deepak\\anaconda3\\lib\\site-packages (from trio~=0.17->selenium) (22.1.0)\n",
      "Requirement already satisfied: idna in c:\\users\\deepak\\anaconda3\\lib\\site-packages (from trio~=0.17->selenium) (3.4)\n",
      "Requirement already satisfied: sortedcontainers in c:\\users\\deepak\\anaconda3\\lib\\site-packages (from trio~=0.17->selenium) (2.4.0)\n",
      "Requirement already satisfied: outcome in c:\\users\\deepak\\anaconda3\\lib\\site-packages (from trio~=0.17->selenium) (1.2.0)\n",
      "Requirement already satisfied: exceptiongroup>=1.0.0rc9 in c:\\users\\deepak\\anaconda3\\lib\\site-packages (from trio~=0.17->selenium) (1.1.1)\n",
      "Requirement already satisfied: sniffio in c:\\users\\deepak\\anaconda3\\lib\\site-packages (from trio~=0.17->selenium) (1.2.0)\n",
      "Requirement already satisfied: wsproto>=0.14 in c:\\users\\deepak\\anaconda3\\lib\\site-packages (from trio-websocket~=0.9->selenium) (1.2.0)\n",
      "Requirement already satisfied: PySocks!=1.5.7,<2.0,>=1.5.6 in c:\\users\\deepak\\anaconda3\\lib\\site-packages (from urllib3[socks]~=1.26->selenium) (1.7.1)\n",
      "Requirement already satisfied: pycparser in c:\\users\\deepak\\anaconda3\\lib\\site-packages (from cffi>=1.14->trio~=0.17->selenium) (2.21)\n",
      "Requirement already satisfied: h11<1,>=0.9.0 in c:\\users\\deepak\\anaconda3\\lib\\site-packages (from wsproto>=0.14->trio-websocket~=0.9->selenium) (0.14.0)\n"
     ]
    }
   ],
   "source": [
    "pip install selenium"
   ]
  },
  {
   "cell_type": "code",
   "execution_count": 3,
   "id": "cc710d96",
   "metadata": {},
   "outputs": [],
   "source": [
    "import selenium\n",
    "import pandas as pd\n",
    "from selenium import webdriver\n",
    "from selenium.common.exceptions import StaleElementReferenceException,NoSuchElementException\n",
    "from selenium.webdriver.common.by import By\n",
    "import time\n"
   ]
  },
  {
   "cell_type": "code",
   "execution_count": 30,
   "id": "ebd9c381",
   "metadata": {},
   "outputs": [
    {
     "name": "stderr",
     "output_type": "stream",
     "text": [
      "C:\\Users\\Deepak\\AppData\\Local\\Temp\\ipykernel_28792\\191662975.py:1: DeprecationWarning: executable_path has been deprecated, please pass in a Service object\n",
      "  driver=webdriver.Chrome(r\"chromedriver.exe\")\n"
     ]
    }
   ],
   "source": [
    "driver=webdriver.Chrome(r\"chromedriver.exe\")"
   ]
  },
  {
   "cell_type": "code",
   "execution_count": 31,
   "id": "9ed0f0fa",
   "metadata": {},
   "outputs": [],
   "source": [
    "driver.get(\"https://www.amazon.com/\")"
   ]
  },
  {
   "cell_type": "code",
   "execution_count": null,
   "id": "98fbf6ff",
   "metadata": {},
   "outputs": [],
   "source": [
    "val=input(laptop)"
   ]
  },
  {
   "cell_type": "code",
   "execution_count": null,
   "id": "5b3e6d45",
   "metadata": {},
   "outputs": [],
   "source": [
    "2q"
   ]
  },
  {
   "cell_type": "code",
   "execution_count": 33,
   "id": "a17aa761",
   "metadata": {},
   "outputs": [],
   "source": [
    "laptop=driver.find_element(By.XPATH,\"/html/body/div[1]/header/div/div[1]/div[2]/div/form/div[2]/div[1]/input\")\n",
    "laptop.send_keys('laptop')"
   ]
  },
  {
   "cell_type": "code",
   "execution_count": 34,
   "id": "73ffd255",
   "metadata": {},
   "outputs": [],
   "source": [
    "search = driver.find_element(By.XPATH,'/html/body/div[1]/header/div/div[1]/div[2]/div/form/div[3]/div/span/input')\n",
    "search.click()                            "
   ]
  },
  {
   "cell_type": "code",
   "execution_count": 202,
   "id": "787c5068",
   "metadata": {},
   "outputs": [],
   "source": [
    "brand_name=[]\n",
    "name_of_product=[]\n",
    "price=[]\n",
    "Return_exchange=[]\n",
    "expected_delivery=[]\n",
    "avilability=[]\n",
    "product_url=[]\n"
   ]
  },
  {
   "cell_type": "code",
   "execution_count": 46,
   "id": "ad9cf91d",
   "metadata": {},
   "outputs": [
    {
     "data": {
      "text/plain": [
       "81"
      ]
     },
     "execution_count": 46,
     "metadata": {},
     "output_type": "execute_result"
    }
   ],
   "source": [
    "len(product_url)"
   ]
  },
  {
   "cell_type": "code",
   "execution_count": 38,
   "id": "495ab014",
   "metadata": {},
   "outputs": [],
   "source": [
    "start=0\n",
    "end=3\n",
    "for page in range(start,end):\n",
    "    url=driver.find_elements(By.XPATH,'//a[@class=\"a-link-normal s-underline-text s-underline-link-text s-link-style a-text-normal\"]')\n",
    "    for i in url:\n",
    "        product_url.append(i.get_attribute('href'))\n",
    "        next_button=driver.find_element(By.XPATH,'/html/body/div[1]/div[2]/div[1]/div[1]/div/span[1]/div[1]/div[29]/div/div/span/a[3]')"
   ]
  },
  {
   "cell_type": "code",
   "execution_count": 44,
   "id": "3f0c6034",
   "metadata": {},
   "outputs": [],
   "source": [
    "for url in product_url:\n",
    "    driver.get(url)\n",
    "    time.sleep(5)\n",
    "    try:\n",
    "        avail=driver.find_element(By.XPATH,'//span[@class=\"a-size-base a-color-price a-text-bold\"]')\n",
    "        availability.append(avail)\n",
    "    except NoSuchElementException:\n",
    "        availability.append('NOT PRESENT')\n",
    "    "
   ]
  },
  {
   "cell_type": "code",
   "execution_count": 45,
   "id": "33c7ea04",
   "metadata": {},
   "outputs": [
    {
     "data": {
      "text/plain": [
       "81"
      ]
     },
     "execution_count": 45,
     "metadata": {},
     "output_type": "execute_result"
    }
   ],
   "source": [
    "len(availability)"
   ]
  },
  {
   "cell_type": "code",
   "execution_count": 47,
   "id": "fc6cf09f",
   "metadata": {},
   "outputs": [],
   "source": [
    "expected_delivery=[]\n",
    "for url in product_url:\n",
    "    driver.get(url)\n",
    "    time.sleep(5)\n",
    "    try:\n",
    "        exp=driver.find_element(By.XPATH,'//span[@class=\"a-text-bold\"]')\n",
    "        expected_delivery.append(exp)\n",
    "    except NoSuchElementException:\n",
    "        expected_delivery.append('NOT PRESENT')\n",
    "    "
   ]
  },
  {
   "cell_type": "code",
   "execution_count": 48,
   "id": "c072f154",
   "metadata": {},
   "outputs": [
    {
     "data": {
      "text/plain": [
       "81"
      ]
     },
     "execution_count": 48,
     "metadata": {},
     "output_type": "execute_result"
    }
   ],
   "source": [
    "len(expected_delivery)"
   ]
  },
  {
   "cell_type": "code",
   "execution_count": 49,
   "id": "59443317",
   "metadata": {},
   "outputs": [],
   "source": [
    "Return_exchange=[]\n",
    "for url in product_url:\n",
    "    driver.get(url)\n",
    "    time.sleep(5)\n",
    "    try:\n",
    "        ren=driver.find_element(By.XPATH,'//a[@class=\"a-size-small a-link-normal a-text-normal\"]')\n",
    "        Return_exchange.append(ren)\n",
    "    except NoSuchElementException:\n",
    "        Return_exchange.append('NOT PRESENT')\n",
    "    "
   ]
  },
  {
   "cell_type": "code",
   "execution_count": 50,
   "id": "4b05361a",
   "metadata": {},
   "outputs": [
    {
     "name": "stdout",
     "output_type": "stream",
     "text": [
      "81\n"
     ]
    }
   ],
   "source": [
    "print(len(Return_exchange))"
   ]
  },
  {
   "cell_type": "code",
   "execution_count": 51,
   "id": "264c3c9f",
   "metadata": {},
   "outputs": [],
   "source": [
    "brand_name=[]\n",
    "for url in product_url:\n",
    "    driver.get(url)\n",
    "    time.sleep(5)\n",
    "    try:\n",
    "        brand=driver.find_element(By.XPATH,'//span[@class=\"a-size-base po-break-word\"]')\n",
    "        brand_name.append(brand)\n",
    "    except NoSuchElementException:\n",
    "        brand_name.append('NOT PRESENT')\n",
    "    "
   ]
  },
  {
   "cell_type": "code",
   "execution_count": 52,
   "id": "dd2efa97",
   "metadata": {},
   "outputs": [
    {
     "data": {
      "text/plain": [
       "81"
      ]
     },
     "execution_count": 52,
     "metadata": {},
     "output_type": "execute_result"
    }
   ],
   "source": [
    "len(brand_name)"
   ]
  },
  {
   "cell_type": "code",
   "execution_count": 53,
   "id": "fdd378db",
   "metadata": {},
   "outputs": [],
   "source": [
    "name_of_product=[]\n",
    "for url in product_url:\n",
    "    driver.get(url)\n",
    "    time.sleep(5)\n",
    "    try:\n",
    "        name=driver.find_element(By.XPATH,'//span[@class=\"a-size-base po-break-word\"]')\n",
    "        name_of_product.append(name)\n",
    "    except NoSuchElementException:\n",
    "        name_of_product.append('NOT PRESENT')\n",
    "    "
   ]
  },
  {
   "cell_type": "code",
   "execution_count": 54,
   "id": "f43d44b1",
   "metadata": {},
   "outputs": [
    {
     "name": "stdout",
     "output_type": "stream",
     "text": [
      "81\n"
     ]
    }
   ],
   "source": [
    "print(len(name_of_product))"
   ]
  },
  {
   "cell_type": "code",
   "execution_count": 55,
   "id": "3bf130c5",
   "metadata": {},
   "outputs": [],
   "source": [
    "price=[]\n",
    "for url in product_url:\n",
    "    driver.get(url)\n",
    "    time.sleep(5)\n",
    "    try:\n",
    "        pre=driver.find_element(By.XPATH,'//span[@class=\"a-price-whole\"]')\n",
    "        price.append(pre)\n",
    "    except NoSuchElementException:\n",
    "        price.append('NOT PRESENT')\n",
    "    "
   ]
  },
  {
   "cell_type": "code",
   "execution_count": 56,
   "id": "4d61648e",
   "metadata": {},
   "outputs": [
    {
     "data": {
      "text/plain": [
       "81"
      ]
     },
     "execution_count": 56,
     "metadata": {},
     "output_type": "execute_result"
    }
   ],
   "source": [
    "len(price)"
   ]
  },
  {
   "cell_type": "code",
   "execution_count": 59,
   "id": "e72a926b",
   "metadata": {},
   "outputs": [],
   "source": [
    "df=pd.DataFrame({'NAME_OF_PRODUCT':name_of_product,'BRAND_NAME':brand_name,'RETURN_EXCHANGE':Return_exchange,'EXPECTED_DEILVERY':expected_delivery,'AVAILABILITY':availability,'PRICE':price,'PRODUCT_URL':product_url})"
   ]
  },
  {
   "cell_type": "code",
   "execution_count": null,
   "id": "51610094",
   "metadata": {},
   "outputs": [],
   "source": []
  },
  {
   "cell_type": "code",
   "execution_count": null,
   "id": "63cb3e13",
   "metadata": {},
   "outputs": [],
   "source": []
  },
  {
   "cell_type": "code",
   "execution_count": null,
   "id": "cf49f398",
   "metadata": {},
   "outputs": [],
   "source": [
    "3rd"
   ]
  },
  {
   "cell_type": "code",
   "execution_count": 60,
   "id": "cfca2017",
   "metadata": {},
   "outputs": [
    {
     "name": "stderr",
     "output_type": "stream",
     "text": [
      "C:\\Users\\Deepak\\AppData\\Local\\Temp\\ipykernel_28792\\191662975.py:1: DeprecationWarning: executable_path has been deprecated, please pass in a Service object\n",
      "  driver=webdriver.Chrome(r\"chromedriver.exe\")\n"
     ]
    }
   ],
   "source": [
    "driver=webdriver.Chrome(r\"chromedriver.exe\")"
   ]
  },
  {
   "cell_type": "code",
   "execution_count": 61,
   "id": "37d07f27",
   "metadata": {},
   "outputs": [],
   "source": [
    "driver.get(\"https://images.google.com/\")"
   ]
  },
  {
   "cell_type": "code",
   "execution_count": 62,
   "id": "0c614efb",
   "metadata": {},
   "outputs": [],
   "source": [
    "enter=driver.find_element(By.XPATH,\"/html/body/div[1]/div[3]/form/div[1]/div[1]/div[1]/div/div[2]/textarea\")\n",
    "enter.send_keys(\"fruits\")"
   ]
  },
  {
   "cell_type": "code",
   "execution_count": 63,
   "id": "ae9a8b2c",
   "metadata": {},
   "outputs": [],
   "source": [
    "search=driver.find_element(By.XPATH,\"/html/body/div[1]/div[3]/form/div[1]/div[1]/div[1]/button/div/span\")\n",
    "search.click()"
   ]
  },
  {
   "cell_type": "code",
   "execution_count": 71,
   "id": "70285523",
   "metadata": {},
   "outputs": [],
   "source": [
    "\n",
    "    try:\n",
    "        images=driver.find_elements(By.XPATH,'//img[@class=\"rg_i Q4LuWd\"]')\n",
    "        time.sleep(5)\n",
    "    except NoSuchElementException:\n",
    "        print('EXCEPTION RAISED:',\"-\")\n",
    "        fruit_image_urls=[]\n",
    "        image_data=[]\n",
    "        for image in images:\n",
    "            source=image.get_attribute('src')\n",
    "            if source is not None:\n",
    "                if(source[0:4]=='http'):\n",
    "                    fruit_image_urls.append(source)\n",
    "            \n",
    "            \n",
    "        for i in range(len(fruit_image_urls)):\n",
    "            if i > 10:\n",
    "                breakBy.XPATH,\n",
    "                print(\"Downloading{0} of {1} images\".format (i,10))\n",
    "                response = request.get(img_urls[i])\n",
    "                                 "
   ]
  },
  {
   "cell_type": "code",
   "execution_count": 170,
   "id": "9e78127c",
   "metadata": {},
   "outputs": [],
   "source": [
    "enter=driver.find_element(By.XPATH,'/html/body/div[1]/div[3]/form/div[1]/div[1]/div[1]/div/div[2]/textarea')\n",
    "enter.send_keys(\"machine_learning\")"
   ]
  },
  {
   "cell_type": "code",
   "execution_count": 153,
   "id": "e1f0b04f",
   "metadata": {},
   "outputs": [],
   "source": [
    "search=driver.find_element(By.XPATH,\"/html/body/div[1]/div[3]/form/div[1]/div[1]/div[1]/button/div/span\")\n",
    "search.click()"
   ]
  },
  {
   "cell_type": "code",
   "execution_count": 154,
   "id": "68c711ae",
   "metadata": {},
   "outputs": [],
   "source": [
    "for _ in range(10):\n",
    "    driver.execute_script(\"window.scrollBy(0,10)\")\n",
    "    images=driver.find_elements(By.XPATH,'//img[@class=\"rg_i Q4LuWd\"]')\n",
    "    mlimage_urls=[]\n",
    "    image_data=[]\n",
    "    for image in images:\n",
    "        source=image.get_attribute('src')\n",
    "        if source is not None:\n",
    "            if(source[0:4]=='http'):\n",
    "                mlimage_urls.append(source)\n",
    "            \n",
    "            \n",
    "for i in range(len(mlimage_urls)):\n",
    "    if i > 10:\n",
    "        breakBy.XPATH,\n",
    "        print(\"Downloading{0} of {1} images\".format (i,10))\n",
    "        response = request.get(img_urls[i])\n",
    "                                 "
   ]
  },
  {
   "cell_type": "code",
   "execution_count": 116,
   "id": "9cc39f87",
   "metadata": {},
   "outputs": [],
   "source": [
    "enter=driver.find_element(By.XPATH,'/html/body/div[1]/div[3]/form/div[1]/div[1]/div[1]/div/div[2]/textarea')\n",
    "enter.send_keys(\"GUITAR\")"
   ]
  },
  {
   "cell_type": "code",
   "execution_count": 118,
   "id": "2b5e829c",
   "metadata": {},
   "outputs": [],
   "source": [
    "search=driver.find_element(By.XPATH,\"/html/body/div[1]/div[3]/form/div[1]/div[1]/div[1]/button/div/span\")\n",
    "search.click()"
   ]
  },
  {
   "cell_type": "code",
   "execution_count": 134,
   "id": "caedcc4f",
   "metadata": {},
   "outputs": [],
   "source": [
    "for _ in range(10):\n",
    "    driver.execute_script(\"window.scrollBy(0,10)\")\n",
    "    images=driver.find_elements(By.XPATH,'//img[@class=\"rg_i Q4LuWd\"]')\n",
    "    image_urls=[]\n",
    "    image_data=[]\n",
    "    for image in images:\n",
    "        source=image.get_attribute('src')\n",
    "        if source is not None:\n",
    "            if(source[0:4]=='http'):\n",
    "                image_urls.append(source)\n",
    "            \n",
    "            \n",
    "for i in range(len(image_urls)):\n",
    "    if i > 10:\n",
    "        breakBy.XPATH,\n",
    "        print(\"Downloading{0} of {1} images\".format (i,10))\n",
    "        response = request.get(img_urls[i])\n",
    "                                 "
   ]
  },
  {
   "cell_type": "code",
   "execution_count": 137,
   "id": "ce58cc03",
   "metadata": {},
   "outputs": [],
   "source": [
    "enter=driver.find_element(By.XPATH,'/html/body/div[1]/div[3]/form/div[1]/div[1]/div[1]/div/div[2]/textarea')\n",
    "enter.send_keys(\"CAKES\")"
   ]
  },
  {
   "cell_type": "code",
   "execution_count": 139,
   "id": "d29d34d1",
   "metadata": {},
   "outputs": [],
   "source": [
    "search=driver.find_element(By.XPATH,\"/html/body/div[1]/div[3]/form/div[1]/div[1]/div[1]/button/div/span\")\n",
    "search.click()"
   ]
  },
  {
   "cell_type": "code",
   "execution_count": 144,
   "id": "8854de72",
   "metadata": {},
   "outputs": [],
   "source": [
    "for _ in range(10):\n",
    "    driver.execute_script(\"window.scrollBy(0,10)\")\n",
    "    images=driver.find_elements(By.XPATH,'//img[@class=\"rg_i Q4LuWd\"]')\n",
    "    cakeimage_urls=[]\n",
    "    image_data=[]\n",
    "    for image in images:\n",
    "        source=image.get_attribute('src')\n",
    "        if source is not None:\n",
    "            if(source[0:4]=='http'):\n",
    "                cakeimage_urls.append(source)\n",
    "            \n",
    "            \n",
    "for i in range(len(cakeimage_urls)):\n",
    "    if i > 10:\n",
    "        breakBy.XPATH,\n",
    "        print(\"Downloading{0} of {1} images\".format (i,10))\n",
    "        response = request.get(img_urls[i])\n",
    "                                 "
   ]
  },
  {
   "cell_type": "code",
   "execution_count": null,
   "id": "fea851fe",
   "metadata": {},
   "outputs": [],
   "source": []
  },
  {
   "cell_type": "code",
   "execution_count": null,
   "id": "36ddb994",
   "metadata": {},
   "outputs": [],
   "source": []
  },
  {
   "cell_type": "code",
   "execution_count": null,
   "id": "8a009cdb",
   "metadata": {},
   "outputs": [],
   "source": []
  },
  {
   "cell_type": "code",
   "execution_count": null,
   "id": "e3f590d9",
   "metadata": {},
   "outputs": [],
   "source": []
  },
  {
   "cell_type": "code",
   "execution_count": null,
   "id": "f8358506",
   "metadata": {},
   "outputs": [],
   "source": [
    "4q"
   ]
  },
  {
   "cell_type": "code",
   "execution_count": 143,
   "id": "5f98f4d8",
   "metadata": {},
   "outputs": [
    {
     "name": "stderr",
     "output_type": "stream",
     "text": [
      "C:\\Users\\Deepak\\AppData\\Local\\Temp\\ipykernel_6420\\191662975.py:1: DeprecationWarning: executable_path has been deprecated, please pass in a Service object\n",
      "  driver=webdriver.Chrome(r\"chromedriver.exe\")\n"
     ]
    }
   ],
   "source": [
    "driver=webdriver.Chrome(r\"chromedriver.exe\")"
   ]
  },
  {
   "cell_type": "code",
   "execution_count": 365,
   "id": "d6e726f8",
   "metadata": {},
   "outputs": [],
   "source": [
    "driver.get(\"https://www.flipkart.com/\")"
   ]
  },
  {
   "cell_type": "code",
   "execution_count": 366,
   "id": "1a7987ee",
   "metadata": {},
   "outputs": [],
   "source": [
    "enter=driver.find_element(By.XPATH,'/html/body/div[1]/div/div[1]/div[1]/div[2]/div[2]/form/div/div/input')\n",
    "enter.send_keys(\"ONEPLUS NORD\")"
   ]
  },
  {
   "cell_type": "code",
   "execution_count": 367,
   "id": "91cb3b22",
   "metadata": {},
   "outputs": [],
   "source": [
    "search=driver.find_element(By.XPATH,\"/html/body/div[1]/div/div[1]/div[1]/div[2]/div[2]/form/div/button\")\n",
    "search.click()"
   ]
  },
  {
   "cell_type": "code",
   "execution_count": 368,
   "id": "bf4b424a",
   "metadata": {},
   "outputs": [],
   "source": [
    "product_url=[]\n",
    "url=driver.find_elements(By.XPATH,'//a[@class=\"_1fQZEK\"]')\n",
    "for i in url:\n",
    "    product_url.append(i.get_attribute('href'))\n",
    "        "
   ]
  },
  {
   "cell_type": "code",
   "execution_count": 408,
   "id": "43ba12fa",
   "metadata": {},
   "outputs": [],
   "source": [
    "brand_name=[]\n",
    "for url in product_url:\n",
    "    driver.get(url)\n",
    "    time.sleep(5)\n",
    "    try:\n",
    "        brand=driver.find_element(By.XPATH,\"/html/body/div[1]/div/div[3]/div[1]/div[2]/div[2]/div/div[1]/h1/span\")\n",
    "        brand_name.append(brand.text.split(',')[0])\n",
    "    except NoSuchElementException:\n",
    "        brand_name.append('-')"
   ]
  },
  {
   "cell_type": "code",
   "execution_count": 392,
   "id": "8ff930b9",
   "metadata": {},
   "outputs": [],
   "source": [
    "colour=[]\n",
    "for url in product_url:\n",
    "    driver.get(url)\n",
    "    time.sleep(5)\n",
    "    try:\n",
    "        cr=driver.find_element(By.XPATH,\"/html/body/div[1]/div/div[3]/div[1]/div[2]/div[7]/div/div/div[4]/div/div[2]/div[1]/div[1]/table/tbody/tr[4]/td[2]/ul/li\")\n",
    "        colour.append(cr.text)\n",
    "    except NoSuchElementException:\n",
    "        colour.append('-')"
   ]
  },
  {
   "cell_type": "code",
   "execution_count": 396,
   "id": "b91efb9c",
   "metadata": {},
   "outputs": [],
   "source": [
    "ram=[]\n",
    "for url in product_url:\n",
    "    driver.get(url)\n",
    "    time.sleep(5)\n",
    "    try:\n",
    "        rm=driver.find_element(By.XPATH,\"/html/body/div[1]/div/div[3]/div[1]/div[2]/div[6]/div[1]/div/div[2]/ul/li[1]\")\n",
    "        ram.append(rm.text)\n",
    "    except NoSuchElementException:\n",
    "        ram.append('-')"
   ]
  },
  {
   "cell_type": "code",
   "execution_count": 406,
   "id": "e0c1a22a",
   "metadata": {},
   "outputs": [],
   "source": [
    "primary_camera=[]\n",
    "for url in product_url:\n",
    "    driver.get(url)\n",
    "    time.sleep(5)\n",
    "    try:\n",
    "        pc=driver.find_element(By.XPATH,\"/html/body/div[1]/div/div[3]/div[1]/div[2]/div[6]/div[1]/div/div[2]/ul/li[3]\")\n",
    "        primary_camera.append(pc.text)\n",
    "    except NoSuchElementException:\n",
    "        primary_camera.append('-')"
   ]
  },
  {
   "cell_type": "code",
   "execution_count": 402,
   "id": "7be6c902",
   "metadata": {},
   "outputs": [],
   "source": [
    "display_size=[]\n",
    "for url in product_url:\n",
    "    driver.get(url)\n",
    "    time.sleep(5)\n",
    "    try:\n",
    "        ds=driver.find_element(By.XPATH,\"/html/body/div[1]/div/div[3]/div[1]\")\n",
    "        display_size.append(ds.text)\n",
    "    except NoSuchElementException:\n",
    "        display_size.append('-')"
   ]
  },
  {
   "cell_type": "code",
   "execution_count": 404,
   "id": "627316d5",
   "metadata": {},
   "outputs": [],
   "source": [
    "battery_capacity=[]\n",
    "for url in product_url:\n",
    "    driver.get(url)\n",
    "    time.sleep(5)\n",
    "    try:\n",
    "        bc=driver.find_element(By.XPATH,\"/html/body/div[1]/div/div[3]/div[1]/div[2]/div[6]/div[1]/div/div[2]/ul/li[4]\")\n",
    "        battery_capacity.append(bc.text)\n",
    "    except NoSuchElementException:\n",
    "        battery_capacity.append('-')"
   ]
  },
  {
   "cell_type": "code",
   "execution_count": 360,
   "id": "10000ff7",
   "metadata": {},
   "outputs": [],
   "source": [
    "price=[]\n",
    "for url in product_url:\n",
    "    driver.get(url)\n",
    "    time.sleep(5)\n",
    "    try:\n",
    "        pc=driver.find_element(By.XPATH,\"/html/body/div[1]/div/div[3]/div[1]/div[2]/div[2]/div/div[3]/div[1]/div/div\")\n",
    "        price.append(pc.text)\n",
    "    except NoSuchElementException:\n",
    "        price.append('-')"
   ]
  },
  {
   "cell_type": "code",
   "execution_count": 362,
   "id": "1bd6a1d3",
   "metadata": {},
   "outputs": [],
   "source": [
    "model_name=[]\n",
    "for url in product_url:\n",
    "    driver.get(url)\n",
    "    time.sleep(5)\n",
    "    try:\n",
    "        mn=driver.find_element(By.XPATH,\"/html/body/div[1]/div/div[3]/div[1]/div[2]/div[7]/div/div/div[4]/div/div[2]/div[1]/div[1]/table/tbody/tr[3]/td[2]/ul/li\")\n",
    "        model_name.append(mn.text)\n",
    "    except NoSuchElementException:\n",
    "        model_name.append('-')"
   ]
  },
  {
   "cell_type": "code",
   "execution_count": 421,
   "id": "677247e2",
   "metadata": {},
   "outputs": [],
   "source": [
    "df = pd.DataFrame({'BRAND_NAME':brand_name,'SMART_PHONE_NAME':model_name,'COLOUR':colour,'RAM_ROM':ram,'DISPLAY_SIZE':display_size,'PRIMARY_CAMERA':primary_camera,'BATTERY':battery_capacity,'PRICE':price})"
   ]
  },
  {
   "cell_type": "code",
   "execution_count": null,
   "id": "9d4b518e",
   "metadata": {},
   "outputs": [],
   "source": []
  },
  {
   "cell_type": "code",
   "execution_count": null,
   "id": "a355eaed",
   "metadata": {},
   "outputs": [],
   "source": []
  },
  {
   "cell_type": "code",
   "execution_count": null,
   "id": "fd56a669",
   "metadata": {},
   "outputs": [],
   "source": []
  },
  {
   "cell_type": "code",
   "execution_count": null,
   "id": "04333620",
   "metadata": {},
   "outputs": [],
   "source": []
  },
  {
   "cell_type": "code",
   "execution_count": null,
   "id": "76daaa21",
   "metadata": {},
   "outputs": [],
   "source": [
    "q5"
   ]
  },
  {
   "cell_type": "code",
   "execution_count": 103,
   "id": "adb714a6",
   "metadata": {},
   "outputs": [],
   "source": [
    "import re"
   ]
  },
  {
   "cell_type": "code",
   "execution_count": 84,
   "id": "25ca33e4",
   "metadata": {},
   "outputs": [
    {
     "name": "stderr",
     "output_type": "stream",
     "text": [
      "C:\\Users\\Deepak\\AppData\\Local\\Temp\\ipykernel_6420\\191662975.py:1: DeprecationWarning: executable_path has been deprecated, please pass in a Service object\n",
      "  driver=webdriver.Chrome(r\"chromedriver.exe\")\n"
     ]
    }
   ],
   "source": [
    "driver=webdriver.Chrome(r\"chromedriver.exe\")"
   ]
  },
  {
   "cell_type": "code",
   "execution_count": 86,
   "id": "e2df3178",
   "metadata": {},
   "outputs": [],
   "source": [
    "driver.get(\"https://www.google.com/maps\")"
   ]
  },
  {
   "cell_type": "code",
   "execution_count": 87,
   "id": "54963b2e",
   "metadata": {},
   "outputs": [],
   "source": [
    "enter=driver.find_element(By.XPATH,'/html/body/div[3]/div[9]/div[3]/div[1]/div[1]/div[1]/div[2]/form/div[2]/div[3]/div/input[1]')\n",
    "enter.send_keys(\"HYDERABAD\")"
   ]
  },
  {
   "cell_type": "code",
   "execution_count": 88,
   "id": "61734c55",
   "metadata": {},
   "outputs": [],
   "source": [
    "search=driver.find_element(By.XPATH,\"/html/body/div[3]/div[9]/div[3]/div[1]/div[1]/div[1]/div[2]/div[1]/button\")\n",
    "search.click()"
   ]
  },
  {
   "cell_type": "code",
   "execution_count": 96,
   "id": "0f1a27db",
   "metadata": {},
   "outputs": [
    {
     "name": "stdout",
     "output_type": "stream",
     "text": [
      "URL EXTRACTED: https://www.google.com/maps/place/Hyderabad,+Telangana/@17.4120779,78.0783757,10z/data=!3m1!4b1!4m6!3m5!1s0x3bcb99daeaebd2c7:0xae93b78392bafbc2!8m2!3d17.385044!4d78.486671!16zL20vMDljNnc\n"
     ]
    }
   ],
   "source": [
    "url_string = driver.current_url\n",
    "print(\"URL EXTRACTED:\",url_string)"
   ]
  },
  {
   "cell_type": "code",
   "execution_count": 108,
   "id": "41b62cbb",
   "metadata": {},
   "outputs": [],
   "source": [
    "lat_lan= re.findall(r'@(.*)data',url_string)"
   ]
  },
  {
   "cell_type": "code",
   "execution_count": 111,
   "id": "a9870543",
   "metadata": {},
   "outputs": [
    {
     "name": "stdout",
     "output_type": "stream",
     "text": [
      "['17.4120779,78.0783757,10z/']\n"
     ]
    }
   ],
   "source": [
    "print(lat_lan)"
   ]
  },
  {
   "cell_type": "code",
   "execution_count": null,
   "id": "37d0f00b",
   "metadata": {},
   "outputs": [],
   "source": []
  },
  {
   "cell_type": "code",
   "execution_count": null,
   "id": "65ec72f2",
   "metadata": {},
   "outputs": [],
   "source": []
  },
  {
   "cell_type": "code",
   "execution_count": null,
   "id": "cd4c92a0",
   "metadata": {},
   "outputs": [],
   "source": []
  },
  {
   "cell_type": "code",
   "execution_count": null,
   "id": "913ec3a5",
   "metadata": {},
   "outputs": [],
   "source": [
    "q6"
   ]
  },
  {
   "cell_type": "code",
   "execution_count": 507,
   "id": "63e62d98",
   "metadata": {},
   "outputs": [
    {
     "name": "stderr",
     "output_type": "stream",
     "text": [
      "C:\\Users\\Deepak\\AppData\\Local\\Temp\\ipykernel_26940\\191662975.py:1: DeprecationWarning: executable_path has been deprecated, please pass in a Service object\n",
      "  driver=webdriver.Chrome(r\"chromedriver.exe\")\n"
     ]
    }
   ],
   "source": [
    "driver=webdriver.Chrome(r\"chromedriver.exe\")"
   ]
  },
  {
   "cell_type": "code",
   "execution_count": 508,
   "id": "7683462c",
   "metadata": {},
   "outputs": [],
   "source": [
    "driver.get(\"https://www.digit.in/\")"
   ]
  },
  {
   "cell_type": "code",
   "execution_count": 509,
   "id": "60f52404",
   "metadata": {},
   "outputs": [],
   "source": [
    "laptops=driver.find_element(By.XPATH,\"/html/body/div[7]/div/div[2]/div[2]/div[3]/ul/li[9]/a\")\n",
    "laptops.click()"
   ]
  },
  {
   "cell_type": "code",
   "execution_count": 489,
   "id": "ca535852",
   "metadata": {},
   "outputs": [],
   "source": [
    "product_url=[]\n",
    "url=driver.find_elements(By.XPATH,'/html/body/div[9]/div[1]/div[3]/div[2]/div[1]/div[1]/div[1]/a')\n",
    "for i in url:\n",
    "    product_url.append(i.get_attribute('href'))"
   ]
  },
  {
   "cell_type": "code",
   "execution_count": 490,
   "id": "6a81b192",
   "metadata": {},
   "outputs": [],
   "source": [
    "url=driver.find_elements(By.XPATH,'/html/body/div[9]/div[1]/div[3]/div[2]/div[3]/div[1]/div[1]/a')\n",
    "for i in url:\n",
    "    product_url.append(i.get_attribute('href'))"
   ]
  },
  {
   "cell_type": "code",
   "execution_count": 491,
   "id": "6f336878",
   "metadata": {},
   "outputs": [],
   "source": [
    "url=driver.find_elements(By.XPATH,'/html/body/div[9]/div[1]/div[3]/div[2]/div[3]/div[1]/div[1]/a')\n",
    "for i in url:\n",
    "    product_url.append(i.get_attribute('href'))"
   ]
  },
  {
   "cell_type": "code",
   "execution_count": 492,
   "id": "d62cda3f",
   "metadata": {},
   "outputs": [],
   "source": [
    "url=driver.find_elements(By.XPATH,'/html/body/div[9]/div[1]/div[3]/div[2]/div[5]/div[1]/div[1]/a')\n",
    "for i in url:\n",
    "    product_url.append(i.get_attribute('href'))"
   ]
  },
  {
   "cell_type": "code",
   "execution_count": 493,
   "id": "3e60867c",
   "metadata": {},
   "outputs": [],
   "source": [
    "url=driver.find_elements(By.XPATH,'/html/body/div[9]/div[1]/div[3]/div[2]/div[6]/div[1]/div[1]/a')\n",
    "for i in url:\n",
    "    product_url.append(i.get_attribute('href'))"
   ]
  },
  {
   "cell_type": "code",
   "execution_count": 494,
   "id": "f4ab69dd",
   "metadata": {},
   "outputs": [],
   "source": [
    "url=driver.find_elements(By.XPATH,'/html/body/div[9]/div[1]/div[3]/div[2]/div[7]/div[1]/div[1]/a')\n",
    "for i in url:\n",
    "    product_url.append(i.get_attribute('href'))"
   ]
  },
  {
   "cell_type": "code",
   "execution_count": 495,
   "id": "b1c52c00",
   "metadata": {},
   "outputs": [],
   "source": [
    "url=driver.find_elements(By.XPATH,'/html/body/div[9]/div[1]/div[3]/div[2]/div[9]/div[1]/div[1]/a')\n",
    "for i in url:\n",
    "    product_url.append(i.get_attribute('href'))"
   ]
  },
  {
   "cell_type": "code",
   "execution_count": 496,
   "id": "2efdad35",
   "metadata": {},
   "outputs": [],
   "source": [
    "url=driver.find_elements(By.XPATH,'/html/body/div[9]/div[1]/div[3]/div[2]/div[10]/div[1]/div[1]/a')\n",
    "for i in url:\n",
    "    product_url.append(i.get_attribute('href'))"
   ]
  },
  {
   "cell_type": "code",
   "execution_count": 497,
   "id": "140aa598",
   "metadata": {},
   "outputs": [],
   "source": [
    "url=driver.find_elements(By.XPATH,'/html/body/div[9]/div[1]/div[3]/div[2]/div[11]/div[1]/div[1]/a')\n",
    "for i in url:\n",
    "    product_url.append(i.get_attribute('href'))"
   ]
  },
  {
   "cell_type": "code",
   "execution_count": 498,
   "id": "8097c6b4",
   "metadata": {},
   "outputs": [],
   "source": [
    "url=driver.find_elements(By.XPATH,'/html/body/div[9]/div[1]/div[3]/div[2]/div[13]/div[1]/div[1]/a')\n",
    "for i in url:\n",
    "    product_url.append(i.get_attribute('href'))"
   ]
  },
  {
   "cell_type": "code",
   "execution_count": 516,
   "id": "071086e0",
   "metadata": {},
   "outputs": [],
   "source": [
    "name=[]\n",
    "try:\n",
    "    nm=driver.find_elements(By.XPATH,'//div[@class=\"TopNumbeHeading\"]')\n",
    "    for i in nm:\n",
    "        name.append(i.text)\n",
    "except NoSuchElementException:\n",
    "    name.append('-')"
   ]
  },
  {
   "cell_type": "code",
   "execution_count": 521,
   "id": "0f14be29",
   "metadata": {},
   "outputs": [],
   "source": [
    "model_name=[]\n",
    "for url in product_url:\n",
    "    driver.get(url)\n",
    "    time.sleep(5)\n",
    "    try:\n",
    "        nm=driver.find_element(By.XPATH,\"/html/body/div[7]/div[2]/div[8]/div/div[1]/div[1]/table/tbody/tr[1]/td[3]\")\n",
    "        model_name.append(nm.text)\n",
    "    except NoSuchElementException:\n",
    "        model_name.append('-')"
   ]
  },
  {
   "cell_type": "code",
   "execution_count": 546,
   "id": "94394bf6",
   "metadata": {},
   "outputs": [],
   "source": [
    "display=[]\n",
    "for url in product_url:\n",
    "    driver.get(url)\n",
    "    time.sleep(5)\n",
    "    try:\n",
    "        dp=driver.find_element(By.XPATH,\"/html/body/div[7]/div[2]/div[8]/div/div[1]/div[2]/table/tbody/tr[2]/td[3]\")\n",
    "        display.append(dp.text)\n",
    "    except NoSuchElementException:\n",
    "        display.append('-')"
   ]
  },
  {
   "cell_type": "code",
   "execution_count": 529,
   "id": "514feaa3",
   "metadata": {},
   "outputs": [],
   "source": [
    "ram=[]\n",
    "for url in product_url:\n",
    "    driver.get(url)\n",
    "    time.sleep(5)\n",
    "    try:\n",
    "        rm=driver.find_element(By.XPATH,\"/html/body/div[7]/div[2]/div[8]/div/div[1]/div[4]/table/tbody/tr[1]/td[3]\")\n",
    "        ram.append(rm.text)\n",
    "    except NoSuchElementException:\n",
    "        ram.append('-')"
   ]
  },
  {
   "cell_type": "code",
   "execution_count": 540,
   "id": "336ea7dd",
   "metadata": {},
   "outputs": [],
   "source": [
    "battery=[]\n",
    "for url in product_url:\n",
    "    driver.get(url)\n",
    "    time.sleep(5)\n",
    "    try:\n",
    "        bt=driver.find_element(By.XPATH,\"/html/body/div[7]/div[2]/div[8]/div/div[2]/div[2]/table/tbody/tr[1]/td[3]\")\n",
    "        battery.append(bt.text[0])\n",
    "    except NoSuchElementException:\n",
    "        battery.append('-')"
   ]
  },
  {
   "cell_type": "code",
   "execution_count": 548,
   "id": "67ae204c",
   "metadata": {},
   "outputs": [
    {
     "name": "stdout",
     "output_type": "stream",
     "text": [
      "10 10 10 10 10\n"
     ]
    }
   ],
   "source": [
    "print(len(name),len(model_name),len(ram),len(display),len(battery))"
   ]
  },
  {
   "cell_type": "code",
   "execution_count": 549,
   "id": "4efd6bc5",
   "metadata": {},
   "outputs": [],
   "source": [
    "df=pd.DataFrame({'BRAND_NAME':name,'MODEL_NAME':model_name,'RAM':ram,'DISPLAY_SIZE':display,'BATTERY':battery})"
   ]
  },
  {
   "cell_type": "code",
   "execution_count": null,
   "id": "7c963b2e",
   "metadata": {},
   "outputs": [],
   "source": []
  },
  {
   "cell_type": "code",
   "execution_count": null,
   "id": "efb93630",
   "metadata": {},
   "outputs": [],
   "source": []
  },
  {
   "cell_type": "code",
   "execution_count": null,
   "id": "e4dd45d4",
   "metadata": {},
   "outputs": [],
   "source": [
    "q8"
   ]
  },
  {
   "cell_type": "code",
   "execution_count": 84,
   "id": "00b5d4ac",
   "metadata": {},
   "outputs": [
    {
     "name": "stderr",
     "output_type": "stream",
     "text": [
      "C:\\Users\\Deepak\\AppData\\Local\\Temp\\ipykernel_28792\\191662975.py:1: DeprecationWarning: executable_path has been deprecated, please pass in a Service object\n",
      "  driver=webdriver.Chrome(r\"chromedriver.exe\")\n"
     ]
    }
   ],
   "source": [
    "driver=webdriver.Chrome(r\"chromedriver.exe\")"
   ]
  },
  {
   "cell_type": "code",
   "execution_count": 86,
   "id": "66f4255c",
   "metadata": {},
   "outputs": [],
   "source": [
    "driver.get(\"https://www.youtube.com\")"
   ]
  },
  {
   "cell_type": "code",
   "execution_count": 87,
   "id": "53b17143",
   "metadata": {},
   "outputs": [],
   "source": [
    "enter=driver.find_element(By.XPATH,\"/html/body/ytd-app/div[1]/div/ytd-masthead/div[4]/div[2]/ytd-searchbox/form/div[1]/div[1]/input\")\n",
    "enter.send_keys('BUTTABOMMA TELUGU SONG')"
   ]
  },
  {
   "cell_type": "code",
   "execution_count": 88,
   "id": "7b978cd8",
   "metadata": {},
   "outputs": [],
   "source": [
    "search=driver.find_element(By.XPATH,\"/html/body/ytd-app/div[1]/div/ytd-masthead/div[4]/div[2]/ytd-searchbox/button/yt-icon\")\n",
    "search.click()"
   ]
  },
  {
   "cell_type": "code",
   "execution_count": 92,
   "id": "7668c7eb",
   "metadata": {},
   "outputs": [],
   "source": [
    "comments=[]\n",
    "for _ in range (200):\n",
    "    driver.execute_script(\"window.scrollBy(0,200)\")\n",
    "    comment=driver.find_elements(By.XPATH,'//div[@class=\"style-scope ytd-expander\"]')\n",
    "    for i in comment:\n",
    "        comments.append(i.text[0:500])"
   ]
  },
  {
   "cell_type": "code",
   "execution_count": null,
   "id": "748e3ec6",
   "metadata": {},
   "outputs": [],
   "source": []
  },
  {
   "cell_type": "code",
   "execution_count": 97,
   "id": "f5d6c091",
   "metadata": {},
   "outputs": [
    {
     "name": "stderr",
     "output_type": "stream",
     "text": [
      "C:\\Users\\Deepak\\AppData\\Local\\Temp\\ipykernel_28792\\191662975.py:1: DeprecationWarning: executable_path has been deprecated, please pass in a Service object\n",
      "  driver=webdriver.Chrome(r\"chromedriver.exe\")\n"
     ]
    }
   ],
   "source": [
    "driver=webdriver.Chrome(r\"chromedriver.exe\")"
   ]
  },
  {
   "cell_type": "code",
   "execution_count": 98,
   "id": "247d8dc6",
   "metadata": {},
   "outputs": [],
   "source": [
    "driver.get(\"https://www.hostelworld.com/\")"
   ]
  },
  {
   "cell_type": "code",
   "execution_count": 104,
   "id": "2396dec4",
   "metadata": {},
   "outputs": [],
   "source": [
    "enter=driver.find_element(By.XPATH,\"/html/body/div[3]/div/div/div[2]/div[2]/div[2]/div/div/div/div[1]/div[1]/div/div[2]/input\")\n",
    "enter.send_keys('LONDON')"
   ]
  },
  {
   "cell_type": "code",
   "execution_count": 106,
   "id": "e0d05c10",
   "metadata": {},
   "outputs": [],
   "source": [
    "london_tag=driver.find_element(By.XPATH,\"/html/body/div[3]/div/div/div[2]/div[2]/div[2]/div/div/div/div[1]/div[2]/div/ul/li[2]/button/div[2]/div\")\n",
    "london_tag.click()"
   ]
  },
  {
   "cell_type": "code",
   "execution_count": 107,
   "id": "3b92b133",
   "metadata": {},
   "outputs": [],
   "source": [
    "go=driver.find_element(By.XPATH,'/html/body/div[3]/div/div/div[2]/div[2]/div[2]/div/div/div/div[5]/button')\n",
    "go.click()"
   ]
  },
  {
   "cell_type": "code",
   "execution_count": 110,
   "id": "a45787a2",
   "metadata": {},
   "outputs": [],
   "source": [
    "hostel_name=[]\n",
    "try:\n",
    "    hn=driver.find_elements(By.XPATH,'//div[@class=\"proparty-name\"]')\n",
    "    for i in hn:\n",
    "        hostel_name.append(i.text)\n",
    "except  NoSuchElementException:\n",
    "        hostel_name.append('-')       "
   ]
  },
  {
   "cell_type": "code",
   "execution_count": 732,
   "id": "dabdeaa3",
   "metadata": {},
   "outputs": [],
   "source": [
    "distance_from_city=[]\n",
    "try:\n",
    "    dc=driver.find_elements(By.XPATH,'//span[@class=\"distance-description\"]')\n",
    "    for i in dc:\n",
    "        distance_from_city.append(i.text)\n",
    "except  NoSuchElementException:\n",
    "        distance_from_city.append('-')       "
   ]
  },
  {
   "cell_type": "code",
   "execution_count": 196,
   "id": "251ba7d6",
   "metadata": {},
   "outputs": [],
   "source": [
    "hostel_url=[]\n",
    "url=driver.find_elements(By.XPATH,'//a[@class=\"nuxt-link\"]')\n",
    "for i in url:\n",
    "    hostel_url.append(i.get_attribute('href'))\n",
    "        "
   ]
  },
  {
   "cell_type": "code",
   "execution_count": 760,
   "id": "5c0e71a7",
   "metadata": {},
   "outputs": [],
   "source": [
    "ratings=[]\n",
    "for url in hostel_url:\n",
    "    driver.get(url)\n",
    "    time.sleep(5)\n",
    "    try:\n",
    "        rs=driver.find_element(By.XPATH,\"/html/body/div[3]/div/div/div[2]/section/div[6]/div/div[1]/div[1]/div[1]\")\n",
    "        ratings.append(rs.text)\n",
    "    except NoSuchElementException:\n",
    "        ratings.append('-')"
   ]
  },
  {
   "cell_type": "code",
   "execution_count": 772,
   "id": "e2f84055",
   "metadata": {},
   "outputs": [],
   "source": [
    "total_reviews=[]\n",
    "for url in hostel_url:\n",
    "    driver.get(url)\n",
    "    time.sleep(5)\n",
    "    try:\n",
    "        tr=driver.find_element(By.XPATH,\"/html/body/div[3]/div/div/div[2]/section/div[6]/div/div[1]/div[1]/div[2]/div[2]\")\n",
    "        total_reviews.append(tr.text)\n",
    "    except NoSuchElementException:\n",
    "        total_reviews.append('-')"
   ]
  },
  {
   "cell_type": "code",
   "execution_count": 785,
   "id": "ae668d09",
   "metadata": {},
   "outputs": [],
   "source": [
    "overall_reviews=[]\n",
    "for url in hostel_url:\n",
    "    driver.get(url)\n",
    "    time.sleep(5)\n",
    "    try:\n",
    "        ovr=driver.find_element(By.XPATH,\"/html/body/div[3]/div/div/div[2]/section/div[9]/div[2]/div/div[1]/div[1]/div[2]/div/div[2]\")\n",
    "        overall_reviews.append(ovr.text)\n",
    "    except NoSuchElementException:\n",
    "        overall_reviews.append('-')"
   ]
  },
  {
   "cell_type": "code",
   "execution_count": 781,
   "id": "7d5b8b37",
   "metadata": {},
   "outputs": [],
   "source": [
    "facilities=[]\n",
    "for url in hostel_url:\n",
    "    driver.get(url)\n",
    "    time.sleep(5)\n",
    "    try:\n",
    "        fs=driver.find_element(By.XPATH,\"/html/body/div[3]/div/div/div[2]/section/div[10]/div/ul\")\n",
    "        facilities.append(fs.text)\n",
    "    except NoSuchElementException:\n",
    "        facilities.append('-')"
   ]
  },
  {
   "cell_type": "code",
   "execution_count": 774,
   "id": "ff9dbe11",
   "metadata": {},
   "outputs": [],
   "source": [
    "proparty_description=[]\n",
    "for url in hostel_url:\n",
    "    driver.get(url)\n",
    "    time.sleep(5)\n",
    "    try:\n",
    "        pd=driver.find_element(By.XPATH,\"/html/body/div[3]/div/div/div[2]/section/div[6]/div/div[2]/div/div/div[2]\")\n",
    "        proparty_description.append(pd.text)\n",
    "    except NoSuchElementException:\n",
    "        proparty_description.append('-')"
   ]
  },
  {
   "cell_type": "code",
   "execution_count": null,
   "id": "fc78b646",
   "metadata": {},
   "outputs": [],
   "source": [
    "df=pd.DataFrame({'RATINGS':ratings,'PROPARTY_DESCRIPTION':proparty_description,'FACILITIES':facilities,'TOTAL_REVIEWS':total_reviews,'OVERALL_REVIEWS':overall_reviews})"
   ]
  }
 ],
 "metadata": {
  "kernelspec": {
   "display_name": "Python 3 (ipykernel)",
   "language": "python",
   "name": "python3"
  },
  "language_info": {
   "codemirror_mode": {
    "name": "ipython",
    "version": 3
   },
   "file_extension": ".py",
   "mimetype": "text/x-python",
   "name": "python",
   "nbconvert_exporter": "python",
   "pygments_lexer": "ipython3",
   "version": "3.10.9"
  }
 },
 "nbformat": 4,
 "nbformat_minor": 5
}

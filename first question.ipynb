{
 "cells": [
  {
   "cell_type": "code",
   "execution_count": 173,
   "id": "829142a2",
   "metadata": {
    "scrolled": true
   },
   "outputs": [
    {
     "name": "stdout",
     "output_type": "stream",
     "text": [
      "Requirement already satisfied: selenium in c:\\users\\deepak\\anaconda3\\lib\\site-packages (4.8.3)\n",
      "Requirement already satisfied: urllib3[socks]~=1.26 in c:\\users\\deepak\\anaconda3\\lib\\site-packages (from selenium) (1.26.14)\n",
      "Requirement already satisfied: certifi>=2021.10.8 in c:\\users\\deepak\\anaconda3\\lib\\site-packages (from selenium) (2022.12.7)\n",
      "Requirement already satisfied: trio~=0.17 in c:\\users\\deepak\\anaconda3\\lib\\site-packages (from selenium) (0.22.0)\n",
      "Requirement already satisfied: trio-websocket~=0.9 in c:\\users\\deepak\\anaconda3\\lib\\site-packages (from selenium) (0.10.2)\n",
      "Requirement already satisfied: exceptiongroup>=1.0.0rc9 in c:\\users\\deepak\\anaconda3\\lib\\site-packages (from trio~=0.17->selenium) (1.1.1)\n",
      "Requirement already satisfied: outcome in c:\\users\\deepak\\anaconda3\\lib\\site-packages (from trio~=0.17->selenium) (1.2.0)\n",
      "Requirement already satisfied: sortedcontainers in c:\\users\\deepak\\anaconda3\\lib\\site-packages (from trio~=0.17->selenium) (2.4.0)\n",
      "Requirement already satisfied: cffi>=1.14 in c:\\users\\deepak\\anaconda3\\lib\\site-packages (from trio~=0.17->selenium) (1.15.1)\n",
      "Requirement already satisfied: async-generator>=1.9 in c:\\users\\deepak\\anaconda3\\lib\\site-packages (from trio~=0.17->selenium) (1.10)\n",
      "Requirement already satisfied: attrs>=19.2.0 in c:\\users\\deepak\\anaconda3\\lib\\site-packages (from trio~=0.17->selenium) (22.1.0)\n",
      "Requirement already satisfied: sniffio in c:\\users\\deepak\\anaconda3\\lib\\site-packages (from trio~=0.17->selenium) (1.2.0)\n",
      "Requirement already satisfied: idna in c:\\users\\deepak\\anaconda3\\lib\\site-packages (from trio~=0.17->selenium) (3.4)\n",
      "Requirement already satisfied: wsproto>=0.14 in c:\\users\\deepak\\anaconda3\\lib\\site-packages (from trio-websocket~=0.9->selenium) (1.2.0)\n",
      "Requirement already satisfied: PySocks!=1.5.7,<2.0,>=1.5.6 in c:\\users\\deepak\\anaconda3\\lib\\site-packages (from urllib3[socks]~=1.26->selenium) (1.7.1)\n",
      "Requirement already satisfied: pycparser in c:\\users\\deepak\\anaconda3\\lib\\site-packages (from cffi>=1.14->trio~=0.17->selenium) (2.21)\n",
      "Requirement already satisfied: h11<1,>=0.9.0 in c:\\users\\deepak\\anaconda3\\lib\\site-packages (from wsproto>=0.14->trio-websocket~=0.9->selenium) (0.14.0)\n",
      "Note: you may need to restart the kernel to use updated packages.\n"
     ]
    }
   ],
   "source": [
    "pip install selenium "
   ]
  },
  {
   "cell_type": "code",
   "execution_count": 174,
   "id": "d5169e5c",
   "metadata": {},
   "outputs": [],
   "source": [
    "import selenium\n",
    "import pandas as pd\n",
    "from selenium import webdriver\n",
    "from selenium.common.exceptions import StaleElementReferenceException,NoSuchElementException\n",
    "from selenium.webdriver.common.by import By\n",
    "import time\n"
   ]
  },
  {
   "cell_type": "code",
   "execution_count": 175,
   "id": "86cf47ba",
   "metadata": {
    "scrolled": false
   },
   "outputs": [
    {
     "name": "stderr",
     "output_type": "stream",
     "text": [
      "C:\\Users\\Deepak\\AppData\\Local\\Temp\\ipykernel_9472\\191662975.py:1: DeprecationWarning: executable_path has been deprecated, please pass in a Service object\n",
      "  driver=webdriver.Chrome(r\"chromedriver.exe\")\n"
     ]
    }
   ],
   "source": [
    "driver=webdriver.Chrome(r\"chromedriver.exe\")"
   ]
  },
  {
   "cell_type": "code",
   "execution_count": 176,
   "id": "dcf690fa",
   "metadata": {},
   "outputs": [],
   "source": [
    "driver.get(\"https://www.naukri.com/\")"
   ]
  },
  {
   "cell_type": "code",
   "execution_count": 177,
   "id": "209deba3",
   "metadata": {},
   "outputs": [],
   "source": [
    "designation=driver.find_element(By.CLASS_NAME,\"suggestor-input \")\n",
    "designation.send_keys(\"DATA ANALYST\")"
   ]
  },
  {
   "cell_type": "code",
   "execution_count": 178,
   "id": "c002a021",
   "metadata": {},
   "outputs": [],
   "source": [
    "location=driver.find_element(By.XPATH,\"/html/body/div[1]/div[7]/div/div/div[5]/div/div/div/div[1]/div/input\")\n",
    "location.send_keys(\"BANGLORE\")"
   ]
  },
  {
   "cell_type": "code",
   "execution_count": 179,
   "id": "6798ebcb",
   "metadata": {},
   "outputs": [],
   "source": [
    "search=driver.find_element(By.CLASS_NAME,\"qsbSubmit\")\n",
    "search.click()"
   ]
  },
  {
   "cell_type": "code",
   "execution_count": 205,
   "id": "a1246193",
   "metadata": {},
   "outputs": [],
   "source": [
    "job_title=[]\n",
    "experience_required=[]\n",
    "job_location=[]\n",
    "company_name=[]"
   ]
  },
  {
   "cell_type": "code",
   "execution_count": 206,
   "id": "0b303b7f",
   "metadata": {},
   "outputs": [],
   "source": [
    "title=driver.find_elements(By.XPATH,'//a[@class=\"title ellipsis\"]')\n",
    "for i in title[0:10]:\n",
    "    titles=i.text\n",
    "    job_title.append(titles)"
   ]
  },
  {
   "cell_type": "code",
   "execution_count": 207,
   "id": "f355b456",
   "metadata": {},
   "outputs": [],
   "source": [
    "experiance=driver.find_elements(By.XPATH,'//span[@class=\"ellipsis fleft expwdth\"]')\n",
    "for i in experiance[0:10]:\n",
    "    experiance1=i.text\n",
    "    experience_required.append(experiance1)\n",
    "    "
   ]
  },
  {
   "cell_type": "code",
   "execution_count": 208,
   "id": "1079852c",
   "metadata": {},
   "outputs": [],
   "source": [
    "location=driver.find_elements(By.XPATH,'//span[@class=\"ellipsis fleft locWdth\"]')\n",
    "for i in location[0:10]:\n",
    "    location1=i.text\n",
    "    job_location.append(location)"
   ]
  },
  {
   "cell_type": "code",
   "execution_count": 209,
   "id": "e55fde71",
   "metadata": {},
   "outputs": [],
   "source": [
    "company=driver.find_elements(By.XPATH,'//a[@class=\"subTitle ellipsis fleft\"]')\n",
    "for i in company[0:10]:\n",
    "    companies=i.text\n",
    "    company_name.append(companies)"
   ]
  },
  {
   "cell_type": "code",
   "execution_count": 210,
   "id": "f12ad0b3",
   "metadata": {},
   "outputs": [
    {
     "name": "stdout",
     "output_type": "stream",
     "text": [
      "10 10 10 10\n"
     ]
    }
   ],
   "source": [
    "print(len(job_title),len(company_name),len(experience_required),len(job_location))"
   ]
  },
  {
   "cell_type": "code",
   "execution_count": 211,
   "id": "6980003d",
   "metadata": {},
   "outputs": [],
   "source": [
    "df=pd.DataFrame({'JOB_TITLE':job_title,'EXPERIENCE_REQUIRED':experience_required,'JOB_LOCATION':job_location,'COMPANY_NAME':company_name})"
   ]
  },
  {
   "cell_type": "code",
   "execution_count": 200,
   "id": "7ea4ccde",
   "metadata": {},
   "outputs": [
    {
     "name": "stdout",
     "output_type": "stream",
     "text": [
      "                                           JOB_TITLE EXPERIENCE_REQUIRED  \\\n",
      "0                                   Data Analyst III             3-7 Yrs   \n",
      "1                                       Data Analyst             2-4 Yrs   \n",
      "2  Data Analyst || Bangalore || Male/ Female || 1...             1-5 Yrs   \n",
      "3                                       Data Analyst             3-6 Yrs   \n",
      "4                              Data Analyst - EdTech             2-6 Yrs   \n",
      "5                                       Data Analyst             1-4 Yrs   \n",
      "6                         Data Engineer/Data Analyst            6-11 Yrs   \n",
      "7                         Data Analyst - Contractual             2-3 Yrs   \n",
      "8                         Data Analyst - Contractual             2-3 Yrs   \n",
      "9                               Data Analyst - MySQL             2-7 Yrs   \n",
      "\n",
      "                                        JOB_LOCATION  \\\n",
      "0  [<selenium.webdriver.remote.webelement.WebElem...   \n",
      "1  [<selenium.webdriver.remote.webelement.WebElem...   \n",
      "2  [<selenium.webdriver.remote.webelement.WebElem...   \n",
      "3  [<selenium.webdriver.remote.webelement.WebElem...   \n",
      "4  [<selenium.webdriver.remote.webelement.WebElem...   \n",
      "5  [<selenium.webdriver.remote.webelement.WebElem...   \n",
      "6  [<selenium.webdriver.remote.webelement.WebElem...   \n",
      "7  [<selenium.webdriver.remote.webelement.WebElem...   \n",
      "8  [<selenium.webdriver.remote.webelement.WebElem...   \n",
      "9  [<selenium.webdriver.remote.webelement.WebElem...   \n",
      "\n",
      "                   COMPANY_NAME  \n",
      "0                       Walmart  \n",
      "1                     Clarivate  \n",
      "2                     TeamLease  \n",
      "3                Ingersoll Rand  \n",
      "4                   Talentstack  \n",
      "5                  Unusual Hire  \n",
      "6                 Tech Mahindra  \n",
      "7  Search Advisers Services Guj  \n",
      "8  Search Advisers Services Guj  \n",
      "9                   Talentstack  \n"
     ]
    }
   ],
   "source": [
    "print(df)"
   ]
  },
  {
   "cell_type": "code",
   "execution_count": null,
   "id": "57dd9ac8",
   "metadata": {},
   "outputs": [],
   "source": []
  },
  {
   "cell_type": "code",
   "execution_count": null,
   "id": "ec415d86",
   "metadata": {},
   "outputs": [],
   "source": []
  }
 ],
 "metadata": {
  "kernelspec": {
   "display_name": "Python 3 (ipykernel)",
   "language": "python",
   "name": "python3"
  },
  "language_info": {
   "codemirror_mode": {
    "name": "ipython",
    "version": 3
   },
   "file_extension": ".py",
   "mimetype": "text/x-python",
   "name": "python",
   "nbconvert_exporter": "python",
   "pygments_lexer": "ipython3",
   "version": "3.10.9"
  }
 },
 "nbformat": 4,
 "nbformat_minor": 5
}

{
 "cells": [
  {
   "cell_type": "code",
   "execution_count": 1,
   "id": "95a083bf",
   "metadata": {},
   "outputs": [
    {
     "name": "stdout",
     "output_type": "stream",
     "text": [
      "Requirement already satisfied: selenium in c:\\users\\deepak\\anaconda3\\lib\\site-packages (4.8.3)\n",
      "Requirement already satisfied: trio~=0.17 in c:\\users\\deepak\\anaconda3\\lib\\site-packages (from selenium) (0.22.0)\n",
      "Requirement already satisfied: trio-websocket~=0.9 in c:\\users\\deepak\\anaconda3\\lib\\site-packages (from selenium) (0.10.2)\n",
      "Requirement already satisfied: certifi>=2021.10.8 in c:\\users\\deepak\\anaconda3\\lib\\site-packages (from selenium) (2022.12.7)\n",
      "Requirement already satisfied: urllib3[socks]~=1.26 in c:\\users\\deepak\\anaconda3\\lib\\site-packages (from selenium) (1.26.14)\n",
      "Requirement already satisfied: exceptiongroup>=1.0.0rc9 in c:\\users\\deepak\\anaconda3\\lib\\site-packages (from trio~=0.17->selenium) (1.1.1)\n",
      "Requirement already satisfied: sniffio in c:\\users\\deepak\\anaconda3\\lib\\site-packages (from trio~=0.17->selenium) (1.2.0)\n",
      "Requirement already satisfied: attrs>=19.2.0 in c:\\users\\deepak\\anaconda3\\lib\\site-packages (from trio~=0.17->selenium) (22.1.0)\n",
      "Requirement already satisfied: async-generator>=1.9 in c:\\users\\deepak\\anaconda3\\lib\\site-packages (from trio~=0.17->selenium) (1.10)\n",
      "Requirement already satisfied: sortedcontainers in c:\\users\\deepak\\anaconda3\\lib\\site-packages (from trio~=0.17->selenium) (2.4.0)\n",
      "Requirement already satisfied: cffi>=1.14 in c:\\users\\deepak\\anaconda3\\lib\\site-packages (from trio~=0.17->selenium) (1.15.1)\n",
      "Requirement already satisfied: idna in c:\\users\\deepak\\anaconda3\\lib\\site-packages (from trio~=0.17->selenium) (3.4)\n",
      "Requirement already satisfied: outcome in c:\\users\\deepak\\anaconda3\\lib\\site-packages (from trio~=0.17->selenium) (1.2.0)\n",
      "Requirement already satisfied: wsproto>=0.14 in c:\\users\\deepak\\anaconda3\\lib\\site-packages (from trio-websocket~=0.9->selenium) (1.2.0)\n",
      "Requirement already satisfied: PySocks!=1.5.7,<2.0,>=1.5.6 in c:\\users\\deepak\\anaconda3\\lib\\site-packages (from urllib3[socks]~=1.26->selenium) (1.7.1)\n",
      "Requirement already satisfied: pycparser in c:\\users\\deepak\\anaconda3\\lib\\site-packages (from cffi>=1.14->trio~=0.17->selenium) (2.21)\n",
      "Requirement already satisfied: h11<1,>=0.9.0 in c:\\users\\deepak\\anaconda3\\lib\\site-packages (from wsproto>=0.14->trio-websocket~=0.9->selenium) (0.14.0)\n",
      "Note: you may need to restart the kernel to use updated packages.\n"
     ]
    }
   ],
   "source": [
    "pip install selenium"
   ]
  },
  {
   "cell_type": "code",
   "execution_count": 2,
   "id": "e7518a09",
   "metadata": {},
   "outputs": [],
   "source": [
    "import selenium\n",
    "import pandas as pd\n",
    "from selenium import webdriver\n",
    "from selenium.common.exceptions import StaleElementReferenceException,NoSuchElementException\n",
    "from selenium.webdriver.common.by import By\n",
    "import time\n"
   ]
  },
  {
   "cell_type": "code",
   "execution_count": 4,
   "id": "9e7b4c1f",
   "metadata": {},
   "outputs": [
    {
     "name": "stderr",
     "output_type": "stream",
     "text": [
      "C:\\Users\\Deepak\\AppData\\Local\\Temp\\ipykernel_24084\\191662975.py:1: DeprecationWarning: executable_path has been deprecated, please pass in a Service object\n",
      "  driver=webdriver.Chrome(r\"chromedriver.exe\")\n"
     ]
    }
   ],
   "source": [
    "driver=webdriver.Chrome(r\"chromedriver.exe\")"
   ]
  },
  {
   "cell_type": "code",
   "execution_count": 5,
   "id": "b6be2687",
   "metadata": {},
   "outputs": [],
   "source": [
    "driver.get(\"https://en.wikipedia.org/wiki/List_of_most-viewed_YouTube_videos\")"
   ]
  },
  {
   "cell_type": "code",
   "execution_count": 28,
   "id": "cf93ea19",
   "metadata": {},
   "outputs": [],
   "source": [
    "rank=[]\n",
    "rk=driver.find_elements(By.XPATH,'//table[@class=\"wikitable sortable jquery-tablesorter\"]/tbody/tr/td[1]')\n",
    "for i in rk:\n",
    "    rank.append(i.text)\n"
   ]
  },
  {
   "cell_type": "code",
   "execution_count": 8,
   "id": "ee1846c5",
   "metadata": {},
   "outputs": [],
   "source": [
    "songs=[]\n",
    "song=driver.find_elements(By.XPATH,'//table[@class=\"wikitable sortable jquery-tablesorter\"]/tbody/tr/td[2]')\n",
    "for i in song:\n",
    "    songs.append(i.text)\n"
   ]
  },
  {
   "cell_type": "code",
   "execution_count": 13,
   "id": "33567a18",
   "metadata": {},
   "outputs": [],
   "source": [
    "artist=[]\n",
    "art=driver.find_elements(By.XPATH,'//table[@class=\"wikitable sortable jquery-tablesorter\"]/tbody/tr/td[3]')\n",
    "for i in art:\n",
    "    artist.append(i.text)\n"
   ]
  },
  {
   "cell_type": "code",
   "execution_count": 15,
   "id": "2fa13bdc",
   "metadata": {},
   "outputs": [],
   "source": [
    "views=[]\n",
    "view=driver.find_elements(By.XPATH,'//table[@class=\"wikitable sortable jquery-tablesorter\"]/tbody/tr/td[4]')\n",
    "for i in view:\n",
    "    views.append(i.text)\n"
   ]
  },
  {
   "cell_type": "code",
   "execution_count": 17,
   "id": "3e91a14d",
   "metadata": {},
   "outputs": [],
   "source": [
    "upload_date=[]\n",
    "date=driver.find_elements(By.XPATH,'//table[@class=\"wikitable sortable jquery-tablesorter\"]/tbody/tr/td[5]')\n",
    "for i in date:\n",
    "    upload_date.append(i.text)\n"
   ]
  },
  {
   "cell_type": "code",
   "execution_count": null,
   "id": "db972d9d",
   "metadata": {},
   "outputs": [],
   "source": [
    "q2"
   ]
  },
  {
   "cell_type": "code",
   "execution_count": 36,
   "id": "0766f538",
   "metadata": {},
   "outputs": [
    {
     "name": "stderr",
     "output_type": "stream",
     "text": [
      "C:\\Users\\Deepak\\AppData\\Local\\Temp\\ipykernel_24084\\191662975.py:1: DeprecationWarning: executable_path has been deprecated, please pass in a Service object\n",
      "  driver=webdriver.Chrome(r\"chromedriver.exe\")\n"
     ]
    }
   ],
   "source": [
    "driver=webdriver.Chrome(r\"chromedriver.exe\")"
   ]
  },
  {
   "cell_type": "code",
   "execution_count": 61,
   "id": "e835b05d",
   "metadata": {},
   "outputs": [],
   "source": [
    "driver.get('https://www.bcci.tv/')"
   ]
  },
  {
   "cell_type": "code",
   "execution_count": 66,
   "id": "fa1594d3",
   "metadata": {},
   "outputs": [],
   "source": [
    "international=driver.find_element(By.XPATH,\"/html/body/nav/div[1]/div[2]/ul[1]/li[2]/a\")\n",
    "international.click()"
   ]
  },
  {
   "cell_type": "code",
   "execution_count": 44,
   "id": "88b3f2b0",
   "metadata": {},
   "outputs": [],
   "source": [
    "odi=driver.find_element(By.XPATH,\"/html/body/div[2]/div[2]/div/div/div/div[2]/div[2]/div/div[3]/div/div[2]/div[3]\")\n",
    "odi.click()\n"
   ]
  },
  {
   "cell_type": "code",
   "execution_count": 68,
   "id": "ed5a27eb",
   "metadata": {},
   "outputs": [],
   "source": [
    "results=driver.find_element(By.CLASS_NAME,\"nav-item\")\n"
   ]
  },
  {
   "cell_type": "code",
   "execution_count": 50,
   "id": "b24540f1",
   "metadata": {},
   "outputs": [
    {
     "name": "stdout",
     "output_type": "stream",
     "text": [
      "India\n",
      "191-5 / 39.5 ov\n",
      "vs\n",
      "Australia\n",
      "35.4 ov / 188\n",
      "India Won by 5 Wickets\n"
     ]
    }
   ],
   "source": [
    "name=driver.find_element(By.XPATH,\"/html/body/div[2]/div[2]/div/div/div/div[2]/div/div[3]/div[3]/div/div[2]\")\n",
    "print(name.text)\n"
   ]
  },
  {
   "cell_type": "code",
   "execution_count": 51,
   "id": "8b537ce7",
   "metadata": {},
   "outputs": [
    {
     "name": "stdout",
     "output_type": "stream",
     "text": [
      "AUSTRALIA TOUR OF INDIA 2023\n"
     ]
    }
   ],
   "source": [
    "series=driver.find_element(By.XPATH,\"/html/body/div[2]/div[2]/div/div/div/div[2]/div/div[3]/div[3]/div/div[1]/h5\")\n",
    "print(series.text)\n"
   ]
  },
  {
   "cell_type": "code",
   "execution_count": 52,
   "id": "ba18972b",
   "metadata": {},
   "outputs": [
    {
     "name": "stdout",
     "output_type": "stream",
     "text": [
      "17 MAR 2023\n"
     ]
    }
   ],
   "source": [
    "date=driver.find_element(By.XPATH,\"/html/body/div[2]/div[2]/div/div/div/div[2]/div/div[3]/div[3]/div/div[1]/div/div[1]\")\n",
    "print(date.text)\n"
   ]
  },
  {
   "cell_type": "code",
   "execution_count": 53,
   "id": "42f51355",
   "metadata": {},
   "outputs": [
    {
     "name": "stdout",
     "output_type": "stream",
     "text": [
      "Wankhede Stadium,\n"
     ]
    }
   ],
   "source": [
    "place=driver.find_element(By.XPATH,\"/html/body/div[2]/div[2]/div/div/div/div[2]/div/div[3]/div[3]/div/div[3]/div/span[2]\")\n",
    "print(place.text)\n"
   ]
  },
  {
   "cell_type": "code",
   "execution_count": null,
   "id": "50d5d494",
   "metadata": {},
   "outputs": [],
   "source": []
  },
  {
   "cell_type": "code",
   "execution_count": null,
   "id": "62041b84",
   "metadata": {},
   "outputs": [],
   "source": [
    "q3"
   ]
  },
  {
   "cell_type": "code",
   "execution_count": 107,
   "id": "1f583524",
   "metadata": {},
   "outputs": [
    {
     "name": "stderr",
     "output_type": "stream",
     "text": [
      "C:\\Users\\Deepak\\AppData\\Local\\Temp\\ipykernel_24084\\191662975.py:1: DeprecationWarning: executable_path has been deprecated, please pass in a Service object\n",
      "  driver=webdriver.Chrome(r\"chromedriver.exe\")\n"
     ]
    }
   ],
   "source": [
    "driver=webdriver.Chrome(r\"chromedriver.exe\")"
   ]
  },
  {
   "cell_type": "code",
   "execution_count": 116,
   "id": "d964e7b4",
   "metadata": {},
   "outputs": [],
   "source": [
    "driver.get('https://www.statisticstimes.com/')"
   ]
  },
  {
   "cell_type": "code",
   "execution_count": 117,
   "id": "75f2685c",
   "metadata": {},
   "outputs": [],
   "source": [
    "economy=driver.find_element(By.CLASS_NAME,\"dropbtn\")\n",
    "economy.click()\n"
   ]
  },
  {
   "cell_type": "code",
   "execution_count": 118,
   "id": "6f6a320b",
   "metadata": {},
   "outputs": [
    {
     "data": {
      "text/plain": [
       "<bound method WebElement.click of <selenium.webdriver.remote.webelement.WebElement (session=\"36571728f56dc6fd8ea9e7e3bba816ad\", element=\"e8e42d1f-9871-4903-b7f3-9defbfdb6240\")>>"
      ]
     },
     "execution_count": 118,
     "metadata": {},
     "output_type": "execute_result"
    }
   ],
   "source": [
    "india=driver.find_element(By.XPATH,\"/html/body/div[2]/div[1]/div[2]/div[2]/div/a[3]\")\n",
    "india.click\n"
   ]
  },
  {
   "cell_type": "code",
   "execution_count": 120,
   "id": "eb5f0088",
   "metadata": {},
   "outputs": [
    {
     "data": {
      "text/plain": [
       "<bound method WebElement.click of <selenium.webdriver.remote.webelement.WebElement (session=\"36571728f56dc6fd8ea9e7e3bba816ad\", element=\"187a6dc0-4d2b-4bc7-857a-50537ca79827\")>>"
      ]
     },
     "execution_count": 120,
     "metadata": {},
     "output_type": "execute_result"
    }
   ],
   "source": [
    "states=driver.find_element(By.CLASS_NAME,\"ec\")\n",
    "states.click\n"
   ]
  },
  {
   "cell_type": "code",
   "execution_count": 82,
   "id": "57af6c8c",
   "metadata": {},
   "outputs": [],
   "source": [
    "rank=[]\n",
    "rk=driver.find_elements(By.XPATH,'//table[@class=\"display dataTable\"]/tbody/tr/td[1]')\n",
    "for i in rk:\n",
    "    rank.append(i.text)\n"
   ]
  },
  {
   "cell_type": "code",
   "execution_count": 85,
   "id": "5bf67d45",
   "metadata": {},
   "outputs": [],
   "source": [
    "state_name=[]\n",
    "sn=driver.find_elements(By.XPATH,'//table[@class=\"display dataTable\"]/tbody/tr/td[2]')\n",
    "for i in sn:\n",
    "    state_name.append(i.text)\n"
   ]
  },
  {
   "cell_type": "code",
   "execution_count": 129,
   "id": "e55c6e8a",
   "metadata": {},
   "outputs": [],
   "source": [
    "gsdp19_20=[]\n",
    "gsdp=driver.find_elements(By.XPATH,'//table[@class=\"display dataTable\"]/tbody/tr/td[3]')\n",
    "for i in gsdp:\n",
    "    gsdp19_20.append(i.text)\n"
   ]
  },
  {
   "cell_type": "code",
   "execution_count": 127,
   "id": "f6b4fe42",
   "metadata": {},
   "outputs": [],
   "source": [
    "gsdp18_19=[]\n",
    "gsdp=driver.find_elements(By.XPATH,'//table[@class=\"display dataTable\"]/tbody/tr/td[4]')\n",
    "for i in gsdp:\n",
    "    gsdp18_19.append(i.text)\n",
    "\n"
   ]
  },
  {
   "cell_type": "code",
   "execution_count": 125,
   "id": "57f1c205",
   "metadata": {},
   "outputs": [],
   "source": [
    "Share18_19=[]\n",
    "sh=driver.find_elements(By.XPATH,'//table[@class=\"display dataTable\"]/tbody/tr/td[5]')\n",
    "for i in sh:\n",
    "    Share18_19.append(i.text)\n",
    "\n"
   ]
  },
  {
   "cell_type": "code",
   "execution_count": 121,
   "id": "86e4363f",
   "metadata": {},
   "outputs": [],
   "source": [
    "gdp_2019=[]\n",
    "gdp=driver.find_elements(By.XPATH,'//table[@class=\"display dataTable\"]/tbody/tr/td[6]')\n",
    "for i in gdp:\n",
    "    gdp_2019.append(i.text)\n",
    "\n"
   ]
  },
  {
   "cell_type": "code",
   "execution_count": null,
   "id": "e35bb31a",
   "metadata": {},
   "outputs": [],
   "source": [
    "q4"
   ]
  },
  {
   "cell_type": "code",
   "execution_count": 132,
   "id": "1035dd3d",
   "metadata": {
    "scrolled": true
   },
   "outputs": [
    {
     "name": "stderr",
     "output_type": "stream",
     "text": [
      "C:\\Users\\Deepak\\AppData\\Local\\Temp\\ipykernel_24084\\191662975.py:1: DeprecationWarning: executable_path has been deprecated, please pass in a Service object\n",
      "  driver=webdriver.Chrome(r\"chromedriver.exe\")\n"
     ]
    }
   ],
   "source": [
    "driver=webdriver.Chrome(r\"chromedriver.exe\")"
   ]
  },
  {
   "cell_type": "code",
   "execution_count": 133,
   "id": "e34a7ac5",
   "metadata": {},
   "outputs": [],
   "source": [
    "driver.get('https://github.com/')"
   ]
  },
  {
   "cell_type": "code",
   "execution_count": 134,
   "id": "917ccaa9",
   "metadata": {},
   "outputs": [
    {
     "data": {
      "text/plain": [
       "<bound method WebElement.click of <selenium.webdriver.remote.webelement.WebElement (session=\"ef886a21a42532e26f816be933bd9116\", element=\"af689546-5eb3-448f-aab1-4438a1bf5477\")>>"
      ]
     },
     "execution_count": 134,
     "metadata": {},
     "output_type": "execute_result"
    }
   ],
   "source": [
    "trending=driver.find_element(By.XPATH,\"/html/body/div[1]/div[1]/header/div/div[2]/div/nav/ul/li[3]/div/div[3]/ul/li[2]/a\")\n",
    "trending.click"
   ]
  },
  {
   "cell_type": "code",
   "execution_count": 135,
   "id": "c64eb36d",
   "metadata": {},
   "outputs": [],
   "source": [
    "rp_name=[]\n",
    "rpn=driver.find_elements(By.XPATH,'//span[@class=\"text-normal\"]')\n",
    "for i in rpn:\n",
    "    rp_name.append(i.text)\n",
    "\n"
   ]
  },
  {
   "cell_type": "code",
   "execution_count": 137,
   "id": "7fe13062",
   "metadata": {},
   "outputs": [],
   "source": [
    "rp_description=[]\n",
    "rpd=driver.find_elements(By.XPATH,'//p[@class=\"col-9 color-fg-muted my-1 pr-4\"]')\n",
    "for i in rpd:\n",
    "    rp_description.append(i.text)\n",
    "\n"
   ]
  },
  {
   "cell_type": "code",
   "execution_count": 141,
   "id": "683e46b5",
   "metadata": {},
   "outputs": [],
   "source": [
    "contributors_count=[]\n",
    "cbc=driver.find_elements(By.XPATH,'//a[@class=\"d-inline-block\"]')\n",
    "for i in cbc:\n",
    "    contributors_count.append(i.text)\n",
    "\n"
   ]
  },
  {
   "cell_type": "code",
   "execution_count": 143,
   "id": "1c69b6f5",
   "metadata": {},
   "outputs": [],
   "source": [
    "language_used=[]\n",
    "lud=driver.find_elements(By.XPATH,'//span[@class=\"d-inline-block ml-0 mr-3\"]')\n",
    "for i in lud:\n",
    "    language_used.append(i.text)\n",
    "\n"
   ]
  },
  {
   "cell_type": "code",
   "execution_count": null,
   "id": "003af974",
   "metadata": {},
   "outputs": [],
   "source": []
  },
  {
   "cell_type": "code",
   "execution_count": null,
   "id": "988e3d4c",
   "metadata": {},
   "outputs": [],
   "source": [
    "q5"
   ]
  },
  {
   "cell_type": "code",
   "execution_count": 21,
   "id": "5d9341fb",
   "metadata": {},
   "outputs": [
    {
     "name": "stderr",
     "output_type": "stream",
     "text": [
      "C:\\Users\\Deepak\\AppData\\Local\\Temp\\ipykernel_31856\\191662975.py:1: DeprecationWarning: executable_path has been deprecated, please pass in a Service object\n",
      "  driver=webdriver.Chrome(r\"chromedriver.exe\")\n"
     ]
    }
   ],
   "source": [
    "driver=webdriver.Chrome(r\"chromedriver.exe\")"
   ]
  },
  {
   "cell_type": "code",
   "execution_count": 22,
   "id": "fe549761",
   "metadata": {},
   "outputs": [],
   "source": [
    "driver.get('https://www.billboard.com/')"
   ]
  },
  {
   "cell_type": "code",
   "execution_count": 24,
   "id": "6c8cb6b4",
   "metadata": {},
   "outputs": [],
   "source": [
    "charts=driver.find_element(By.XPATH,'/html/body/div[3]/div[9]/div/div/div/ul/li[1]/h3/a')\n",
    "charts.click()\n",
    "\n"
   ]
  },
  {
   "cell_type": "code",
   "execution_count": 154,
   "id": "a1f3d48c",
   "metadata": {},
   "outputs": [],
   "source": [
    "hot100=driver.find_element(By.XPATH,'/html/body/div[3]/main/div[2]/div[1]/div[1]/div/div/div[3]')\n",
    "hot100.click()\n",
    "\n",
    "driver.get('https://www.billboard.com/')"
   ]
  },
  {
   "cell_type": "code",
   "execution_count": 39,
   "id": "735a7145",
   "metadata": {},
   "outputs": [],
   "source": [
    "song_name=[]\n",
    "all=[i.text.split('\\n')for i in driver.find_elements(By.XPATH,'//li[@class=\"lrv-u-width-100p\"]')]\n",
    "for i in all:\n",
    "    try:\n",
    "        song_name.append(i[0])\n",
    "    except:\n",
    "        song_name.append('-')\n",
    "        \n",
    "        \n",
    "                                                    "
   ]
  },
  {
   "cell_type": "code",
   "execution_count": 50,
   "id": "dba84880",
   "metadata": {},
   "outputs": [],
   "source": [
    "artist_name=[]\n",
    "all=[i.text.split('\\n')for i in driver.find_elements(By.XPATH,'//li[@class=\"lrv-u-width-100p\"]')]\n",
    "for i in all:\n",
    "    try:\n",
    "        artist_name.append(i[1])\n",
    "    except:\n",
    "        artist_name.append('-')\n",
    "        \n",
    "        \n",
    "                                                    "
   ]
  },
  {
   "cell_type": "code",
   "execution_count": 53,
   "id": "763a4017",
   "metadata": {},
   "outputs": [],
   "source": [
    "lastweek_rank=[]\n",
    "all=[i.text.split('\\n')for i in driver.find_elements(By.XPATH,'//li[@class=\"lrv-u-width-100p\"]')]\n",
    "for i in all:\n",
    "    try:\n",
    "        lastweek_rank.append(i[2])\n",
    "    except:\n",
    "        lastweek_rank.append('-')\n",
    "        \n",
    "        \n",
    "                                                    "
   ]
  },
  {
   "cell_type": "code",
   "execution_count": 56,
   "id": "fea4476e",
   "metadata": {},
   "outputs": [],
   "source": [
    "peak_rank=[]\n",
    "all=[i.text.split('\\n')for i in driver.find_elements(By.XPATH,'//li[@class=\"lrv-u-width-100p\"]')]\n",
    "for i in all:\n",
    "    try:\n",
    "        peak_rank.append(i[3])\n",
    "    except:\n",
    "        peak_rank.append('-')\n",
    "        \n",
    "        \n",
    "                                                    "
   ]
  },
  {
   "cell_type": "code",
   "execution_count": 59,
   "id": "51a5f715",
   "metadata": {},
   "outputs": [],
   "source": [
    "weeks_on_board=[]\n",
    "all=[i.text.split('\\n')for i in driver.find_elements(By.XPATH,'//li[@class=\"lrv-u-width-100p\"]')]\n",
    "for i in all:\n",
    "    try:\n",
    "        weeks_on_board.append(i[4])\n",
    "    except:\n",
    "        weeks_on_board.append('-')\n",
    "        \n",
    "        \n",
    "                                                    "
   ]
  },
  {
   "cell_type": "code",
   "execution_count": null,
   "id": "c998e653",
   "metadata": {},
   "outputs": [],
   "source": []
  },
  {
   "cell_type": "code",
   "execution_count": null,
   "id": "8872ab4b",
   "metadata": {},
   "outputs": [],
   "source": []
  },
  {
   "cell_type": "code",
   "execution_count": null,
   "id": "318d5211",
   "metadata": {},
   "outputs": [],
   "source": [
    "q6"
   ]
  },
  {
   "cell_type": "code",
   "execution_count": 4,
   "id": "07298dab",
   "metadata": {},
   "outputs": [
    {
     "name": "stderr",
     "output_type": "stream",
     "text": [
      "C:\\Users\\Deepak\\AppData\\Local\\Temp\\ipykernel_22664\\191662975.py:1: DeprecationWarning: executable_path has been deprecated, please pass in a Service object\n",
      "  driver=webdriver.Chrome(r\"chromedriver.exe\")\n"
     ]
    }
   ],
   "source": [
    "driver=webdriver.Chrome(r\"chromedriver.exe\")"
   ]
  },
  {
   "cell_type": "code",
   "execution_count": 5,
   "id": "88ed85c5",
   "metadata": {},
   "outputs": [],
   "source": [
    "driver.get('https://www.theguardian.com/news/datablog/2012/aug/09/best-selling-books-all-time-fifty-shades-grey-compare')"
   ]
  },
  {
   "cell_type": "code",
   "execution_count": 8,
   "id": "15856f35",
   "metadata": {},
   "outputs": [],
   "source": [
    "book_name=[]\n",
    "bn=driver.find_elements(By.XPATH,'//table[@class=\"in-article sortable\"]/tbody/tr/td[2]')\n",
    "for i in bn:\n",
    "    book_name.append(i.text)\n",
    "\n"
   ]
  },
  {
   "cell_type": "code",
   "execution_count": 6,
   "id": "26454358",
   "metadata": {},
   "outputs": [],
   "source": [
    "author_name=[]\n",
    "atn=driver.find_elements(By.XPATH,'//table[@class=\"in-article sortable\"]/tbody/tr/td[3]')\n",
    "for i in atn:\n",
    "    author_name.append(i.text)\n",
    "\n"
   ]
  },
  {
   "cell_type": "code",
   "execution_count": 12,
   "id": "23c142b2",
   "metadata": {},
   "outputs": [],
   "source": [
    "volumes_sold=[]\n",
    "vs=driver.find_elements(By.XPATH,'//table[@class=\"in-article sortable\"]/tbody/tr/td[4]')\n",
    "for i in vs:\n",
    "    volumes_sold.append(i.text)\n",
    "\n"
   ]
  },
  {
   "cell_type": "code",
   "execution_count": 15,
   "id": "33d0353a",
   "metadata": {},
   "outputs": [],
   "source": [
    "publisher=[]\n",
    "pr=driver.find_elements(By.XPATH,'//table[@class=\"in-article sortable\"]/tbody/tr/td[5]')\n",
    "for i in pr:\n",
    "    publisher.append(i.text)\n",
    "\n"
   ]
  },
  {
   "cell_type": "code",
   "execution_count": 17,
   "id": "39a7fa28",
   "metadata": {},
   "outputs": [],
   "source": [
    "genre=[]\n",
    "gr=driver.find_elements(By.XPATH,'//table[@class=\"in-article sortable\"]/tbody/tr/td[6]')\n",
    "for i in gr:\n",
    "    genre.append(i.text)\n",
    "\n"
   ]
  },
  {
   "cell_type": "code",
   "execution_count": null,
   "id": "6dd37acb",
   "metadata": {},
   "outputs": [],
   "source": [
    "q7"
   ]
  },
  {
   "cell_type": "code",
   "execution_count": 21,
   "id": "ee5ccc78",
   "metadata": {},
   "outputs": [
    {
     "name": "stderr",
     "output_type": "stream",
     "text": [
      "C:\\Users\\Deepak\\AppData\\Local\\Temp\\ipykernel_22664\\191662975.py:1: DeprecationWarning: executable_path has been deprecated, please pass in a Service object\n",
      "  driver=webdriver.Chrome(r\"chromedriver.exe\")\n"
     ]
    }
   ],
   "source": [
    "driver=webdriver.Chrome(r\"chromedriver.exe\")"
   ]
  },
  {
   "cell_type": "code",
   "execution_count": 22,
   "id": "9f1de027",
   "metadata": {},
   "outputs": [],
   "source": [
    "driver.get('https://www.imdb.com/list/ls095964455/')"
   ]
  },
  {
   "cell_type": "code",
   "execution_count": 27,
   "id": "d40ebda4",
   "metadata": {},
   "outputs": [],
   "source": [
    "show_name=[]\n",
    "sn=driver.find_elements(By.XPATH,'//h3[@class=\"lister-item-header\"]')\n",
    "for i in sn:\n",
    "    show_name.append(i.text)\n",
    "\n"
   ]
  },
  {
   "cell_type": "code",
   "execution_count": 30,
   "id": "cf061972",
   "metadata": {},
   "outputs": [],
   "source": [
    "year_span=[]\n",
    "ys=driver.find_elements(By.XPATH,'//span[@class=\"lister-item-year text-muted unbold\"]')\n",
    "for i in ys:\n",
    "    year_span.append(i.text)\n",
    "\n"
   ]
  },
  {
   "cell_type": "code",
   "execution_count": 33,
   "id": "2e8603ed",
   "metadata": {},
   "outputs": [],
   "source": [
    "run_time=[]\n",
    "rt=driver.find_elements(By.XPATH,'//span[@class=\"runtime\"]')\n",
    "for i in rt:\n",
    "    run_time.append(i.text)\n",
    "\n"
   ]
  },
  {
   "cell_type": "code",
   "execution_count": 36,
   "id": "24e2ecf6",
   "metadata": {},
   "outputs": [],
   "source": [
    "genre=[]\n",
    "ge=driver.find_elements(By.XPATH,'//span[@class=\"genre\"]')\n",
    "for i in ge:\n",
    "    genre.append(i.text)\n",
    "\n"
   ]
  },
  {
   "cell_type": "code",
   "execution_count": 39,
   "id": "b0c69f10",
   "metadata": {},
   "outputs": [],
   "source": [
    "ratings=[]\n",
    "rs=driver.find_elements(By.XPATH,'//div[@class=\"ipl-rating-star small\"]')\n",
    "for i in rs:\n",
    "    ratings.append(i.text)\n",
    "\n"
   ]
  },
  {
   "cell_type": "code",
   "execution_count": 42,
   "id": "111833d7",
   "metadata": {},
   "outputs": [],
   "source": [
    "votes=[]\n",
    "vs=driver.find_elements(By.XPATH,'//span[@name=\"nv\"]')\n",
    "for i in vs:\n",
    "    votes.append(i.text)\n",
    "\n"
   ]
  },
  {
   "cell_type": "code",
   "execution_count": null,
   "id": "10fc6202",
   "metadata": {},
   "outputs": [],
   "source": [
    "q8"
   ]
  },
  {
   "cell_type": "code",
   "execution_count": 3,
   "id": "8073c8b1",
   "metadata": {},
   "outputs": [
    {
     "name": "stderr",
     "output_type": "stream",
     "text": [
      "C:\\Users\\Deepak\\AppData\\Local\\Temp\\ipykernel_21348\\191662975.py:1: DeprecationWarning: executable_path has been deprecated, please pass in a Service object\n",
      "  driver=webdriver.Chrome(r\"chromedriver.exe\")\n"
     ]
    }
   ],
   "source": [
    "driver=webdriver.Chrome(r\"chromedriver.exe\")"
   ]
  },
  {
   "cell_type": "code",
   "execution_count": 4,
   "id": "c64e7e20",
   "metadata": {},
   "outputs": [],
   "source": [
    "driver.get('https://archive.ics.uci.edu/ml/index.php')"
   ]
  },
  {
   "cell_type": "code",
   "execution_count": 5,
   "id": "ec9b54cc",
   "metadata": {},
   "outputs": [],
   "source": [
    "all=driver.find_element(By.XPATH,'/html/body/table[1]/tbody/tr/td[2]/span[2]')\n",
    "all.click()\n",
    "\n"
   ]
  },
  {
   "cell_type": "code",
   "execution_count": 7,
   "id": "6d9905ca",
   "metadata": {},
   "outputs": [],
   "source": [
    "dataset_name=[]\n",
    "try:\n",
    "    name=driver.find_elements(By.XPATH,'/html/body/table[2]/tbody/tr/td[2]/table[2]/tbody/tr/td[1]/table/tbody/tr/td[2]/p/b/a')\n",
    "    for i in name:\n",
    "        dataset_name.append(i.text)\n",
    "except NoSuchElementException:\n",
    "    dataset_name.append('no details available')\n",
    "    "
   ]
  },
  {
   "cell_type": "code",
   "execution_count": 25,
   "id": "b850222d",
   "metadata": {},
   "outputs": [],
   "source": [
    "dataset_type=[]\n",
    "try:\n",
    "    type=driver.find_elements(By.XPATH,'/html/body/table[2]/tbody/tr/td[2]/table[2]/tbody/tr/td[2]/p')\n",
    "    for i in type:\n",
    "        dataset_type.append(i.text)\n",
    "except NoSuchElementException:\n",
    "    dataset_type.append('no details available')\n",
    "    "
   ]
  },
  {
   "cell_type": "code",
   "execution_count": 28,
   "id": "e2b934d5",
   "metadata": {},
   "outputs": [],
   "source": [
    "task=[]\n",
    "try:\n",
    "    tak=driver.find_elements(By.XPATH,'/html/body/table[2]/tbody/tr/td[2]/table[2]/tbody/tr/td[3]')\n",
    "    for i in tak:\n",
    "        task.append(i.text)\n",
    "except NoSuchElementException:\n",
    "    task.append('no details available')\n",
    "    "
   ]
  },
  {
   "cell_type": "code",
   "execution_count": 31,
   "id": "6514ac97",
   "metadata": {},
   "outputs": [],
   "source": [
    "attribute_type=[]\n",
    "try:\n",
    "    type=driver.find_elements(By.XPATH,'/html/body/table[2]/tbody/tr/td[2]/table[2]/tbody/tr/td[4]')\n",
    "    for i in type:\n",
    "        attribute_type.append(i.text)\n",
    "except NoSuchElementException:\n",
    "    attribute_type.append('no details available')\n",
    "    "
   ]
  },
  {
   "cell_type": "code",
   "execution_count": 34,
   "id": "41dcab71",
   "metadata": {},
   "outputs": [],
   "source": [
    "no_of_instances=[]\n",
    "try:\n",
    "    number=driver.find_elements(By.XPATH,'/html/body/table[2]/tbody/tr/td[2]/table[2]/tbody/tr/td[5]')\n",
    "    for i in number:\n",
    "        no_of_instances.append(i.text)\n",
    "except NoSuchElementException:\n",
    "    no_of_instances.append('no details available')\n",
    "    "
   ]
  },
  {
   "cell_type": "code",
   "execution_count": 37,
   "id": "d96fbb68",
   "metadata": {},
   "outputs": [],
   "source": [
    "no_of_attributes=[]\n",
    "try:\n",
    "    number=driver.find_elements(By.XPATH,'/html/body/table[2]/tbody/tr/td[2]/table[2]/tbody/tr/td[6]')\n",
    "    for i in number:\n",
    "        no_of_attributes.append(i.text)\n",
    "except NoSuchElementException:\n",
    "    no_of_attributes.append('no details available')\n",
    "    "
   ]
  },
  {
   "cell_type": "code",
   "execution_count": 40,
   "id": "44ea4d9b",
   "metadata": {},
   "outputs": [],
   "source": [
    "year=[]\n",
    "try:\n",
    "    yar=driver.find_elements(By.XPATH,'/html/body/table[2]/tbody/tr/td[2]/table[2]/tbody/tr/td[7]/p')\n",
    "    for i in yar:\n",
    "        year.append(i.text)\n",
    "except NoSuchElementException:\n",
    "    year.append('no details available')\n",
    "    "
   ]
  },
  {
   "cell_type": "code",
   "execution_count": null,
   "id": "762e2e59",
   "metadata": {},
   "outputs": [],
   "source": []
  },
  {
   "cell_type": "code",
   "execution_count": null,
   "id": "59b9c86b",
   "metadata": {},
   "outputs": [],
   "source": []
  },
  {
   "cell_type": "code",
   "execution_count": null,
   "id": "75389d2c",
   "metadata": {},
   "outputs": [],
   "source": [
    "q9"
   ]
  },
  {
   "cell_type": "code",
   "execution_count": 3,
   "id": "4c72e6b4",
   "metadata": {},
   "outputs": [
    {
     "name": "stderr",
     "output_type": "stream",
     "text": [
      "C:\\Users\\Deepak\\AppData\\Local\\Temp\\ipykernel_31856\\191662975.py:1: DeprecationWarning: executable_path has been deprecated, please pass in a Service object\n",
      "  driver=webdriver.Chrome(r\"chromedriver.exe\")\n"
     ]
    }
   ],
   "source": [
    "driver=webdriver.Chrome(r\"chromedriver.exe\")"
   ]
  },
  {
   "cell_type": "code",
   "execution_count": 4,
   "id": "b883f1cf",
   "metadata": {},
   "outputs": [],
   "source": [
    "driver.get('https://www.naukri.com/hr-recruiters-consultants')"
   ]
  },
  {
   "cell_type": "code",
   "execution_count": 5,
   "id": "9604c418",
   "metadata": {},
   "outputs": [],
   "source": [
    "recruites=driver.find_element(By.XPATH,'/html/body/div[1]/div/ul/li[2]/a/div')\n",
    "recruites.click()\n",
    "\n"
   ]
  },
  {
   "cell_type": "code",
   "execution_count": 6,
   "id": "1b824ad2",
   "metadata": {},
   "outputs": [],
   "source": [
    "enter=driver.find_element(By.XPATH,'/html/body/div[2]/div[2]/div[1]/div[1]/form/div[1]/div/div[1]/div[1]/div[2]/input')\n",
    "enter.send_keys('DATA SCIENCE')\n",
    "\n"
   ]
  },
  {
   "cell_type": "code",
   "execution_count": 7,
   "id": "8577a6a8",
   "metadata": {},
   "outputs": [],
   "source": [
    "search=driver.find_element(By.XPATH,'/html/body/div[2]/div[2]/div[1]/div[1]/form/div[1]/button')\n",
    "search.click()\n",
    "\n"
   ]
  },
  {
   "cell_type": "code",
   "execution_count": 12,
   "id": "2899a26a",
   "metadata": {},
   "outputs": [],
   "source": [
    "name=[]\n",
    "recruiter=[i.text.split('\\n')for i in driver.find_elements(By.XPATH,'//p[@class=\"highlightable\"]')]\n",
    "for i in recruiter:\n",
    "    try:\n",
    "        name.append(i[0])\n",
    "    except:\n",
    "            name.append('-')\n",
    "\n"
   ]
  },
  {
   "cell_type": "code",
   "execution_count": 14,
   "id": "13007d94",
   "metadata": {},
   "outputs": [],
   "source": [
    "designation=[]\n",
    "recruiter=[i.text.split('\\n')for i in driver.find_elements(By.XPATH,'//p[@class=\"highlightable\"]')]\n",
    "for i in recruiter:\n",
    "    try:\n",
    "        designation.append(i[1])\n",
    "    except:\n",
    "            designation.append('-')\n",
    "\n"
   ]
  },
  {
   "cell_type": "code",
   "execution_count": 16,
   "id": "07d9c24a",
   "metadata": {},
   "outputs": [],
   "source": [
    "company_name=[]\n",
    "recruiter=[i.text.split('\\n')for i in driver.find_elements(By.XPATH,'//p[@class=\"highlightable\"]')]\n",
    "for i in recruiter:\n",
    "    try:\n",
    "        company_name.append(i[2])\n",
    "    except:\n",
    "            company_name.append('-')\n",
    "\n"
   ]
  },
  {
   "cell_type": "code",
   "execution_count": 19,
   "id": "ce2e918c",
   "metadata": {},
   "outputs": [],
   "source": [
    "skills_hire_for=[]\n",
    "recruiter=[i.text.split('\\n')for i in driver.find_elements(By.XPATH,'//p[@class=\"highlightable\"]')]\n",
    "for i in recruiter:\n",
    "    try:\n",
    "        skills_hire_for.append(i[3])\n",
    "    except:\n",
    "            skills_hire_for.append('-')\n",
    "\n"
   ]
  }
 ],
 "metadata": {
  "kernelspec": {
   "display_name": "Python 3 (ipykernel)",
   "language": "python",
   "name": "python3"
  },
  "language_info": {
   "codemirror_mode": {
    "name": "ipython",
    "version": 3
   },
   "file_extension": ".py",
   "mimetype": "text/x-python",
   "name": "python",
   "nbconvert_exporter": "python",
   "pygments_lexer": "ipython3",
   "version": "3.10.9"
  }
 },
 "nbformat": 4,
 "nbformat_minor": 5
}
